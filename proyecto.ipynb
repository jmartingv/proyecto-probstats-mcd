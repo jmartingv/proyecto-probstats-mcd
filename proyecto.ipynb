{
 "cells": [
  {
   "cell_type": "markdown",
   "id": "0fdafda3",
   "metadata": {},
   "source": [
    "# Proyecto"
   ]
  },
  {
   "cell_type": "markdown",
   "id": "f9abe9dc",
   "metadata": {},
   "source": [
    "**Objetivos**:\n",
    "\n",
    "* Realizar un análisis exploratorio de datos (EDA) con la finalidad de mejor la distribución de los datos utilizados (en este caso, las caracteristicas de los picos de los fringílidos a lo largo de los años y de la información hereditaria), como estan clasificados, su distribución, media, quartiles, etc.\n",
    "\n",
    "* Determinar mediante una prueba de hipótesis si realmente hubo un cambio entre las caracteristicas del pico de estos animales a lo largo de los años.\n",
    "\n",
    "* Adicional al punto anterior, tratar de determinar si existe una relación entre el las características físicas de los padres y aquellas de las crías."
   ]
  },
  {
   "cell_type": "code",
   "execution_count": 1,
   "id": "f3a60fba",
   "metadata": {},
   "outputs": [],
   "source": [
    "# Librerias utiles\n",
    "import pandas as pd\n",
    "import numpy as np\n",
    "import matplotlib.pyplot as plt\n",
    "import seaborn as sns\n",
    "import scipy.stats as stats"
   ]
  },
  {
   "cell_type": "code",
   "execution_count": 2,
   "id": "73a5c40b",
   "metadata": {},
   "outputs": [],
   "source": [
    "df_1975 = pd.read_csv('./data/finch_beaks_1975.csv')\n",
    "df_2012 = pd.read_csv('./data/finch_beaks_2012.csv')\n",
    "\n",
    "df_fortis = pd.read_csv('./data/fortis_beak_depth_heredity.csv')\n",
    "df_scandens = pd.read_csv('./data/scandens_beak_depth_heredity.csv')"
   ]
  },
  {
   "cell_type": "code",
   "execution_count": 3,
   "id": "15a1f325",
   "metadata": {
    "scrolled": true
   },
   "outputs": [
    {
     "name": "stdout",
     "output_type": "stream",
     "text": [
      "<class 'pandas.core.frame.DataFrame'>\n",
      "RangeIndex: 403 entries, 0 to 402\n",
      "Data columns (total 4 columns):\n",
      " #   Column           Non-Null Count  Dtype  \n",
      "---  ------           --------------  -----  \n",
      " 0   band             403 non-null    int64  \n",
      " 1   species          403 non-null    object \n",
      " 2   Beak length, mm  403 non-null    float64\n",
      " 3   Beak depth, mm   403 non-null    float64\n",
      "dtypes: float64(2), int64(1), object(1)\n",
      "memory usage: 12.7+ KB\n"
     ]
    }
   ],
   "source": [
    "df_1975.info() # No hay valores nulos"
   ]
  },
  {
   "cell_type": "code",
   "execution_count": 4,
   "id": "680b234c",
   "metadata": {},
   "outputs": [
    {
     "name": "stdout",
     "output_type": "stream",
     "text": [
      "<class 'pandas.core.frame.DataFrame'>\n",
      "RangeIndex: 248 entries, 0 to 247\n",
      "Data columns (total 4 columns):\n",
      " #   Column   Non-Null Count  Dtype  \n",
      "---  ------   --------------  -----  \n",
      " 0   band     248 non-null    int64  \n",
      " 1   species  248 non-null    object \n",
      " 2   blength  248 non-null    float64\n",
      " 3   bdepth   248 non-null    float64\n",
      "dtypes: float64(2), int64(1), object(1)\n",
      "memory usage: 7.9+ KB\n"
     ]
    }
   ],
   "source": [
    "df_2012.info() # Tampoco hay valores nulos"
   ]
  },
  {
   "cell_type": "code",
   "execution_count": 5,
   "id": "a93e6e71",
   "metadata": {
    "scrolled": true
   },
   "outputs": [
    {
     "name": "stdout",
     "output_type": "stream",
     "text": [
      "<class 'pandas.core.frame.DataFrame'>\n",
      "RangeIndex: 413 entries, 0 to 412\n",
      "Data columns (total 3 columns):\n",
      " #   Column      Non-Null Count  Dtype  \n",
      "---  ------      --------------  -----  \n",
      " 0   Mid-offspr  413 non-null    float64\n",
      " 1   Male BD     413 non-null    float64\n",
      " 2   Female BD   413 non-null    float64\n",
      "dtypes: float64(3)\n",
      "memory usage: 9.8 KB\n"
     ]
    }
   ],
   "source": [
    "df_fortis.info()"
   ]
  },
  {
   "cell_type": "code",
   "execution_count": 6,
   "id": "719a99c3",
   "metadata": {},
   "outputs": [
    {
     "name": "stdout",
     "output_type": "stream",
     "text": [
      "<class 'pandas.core.frame.DataFrame'>\n",
      "RangeIndex: 130 entries, 0 to 129\n",
      "Data columns (total 2 columns):\n",
      " #   Column         Non-Null Count  Dtype  \n",
      "---  ------         --------------  -----  \n",
      " 0   mid_parent     130 non-null    float64\n",
      " 1   mid_offspring  130 non-null    float64\n",
      "dtypes: float64(2)\n",
      "memory usage: 2.2 KB\n"
     ]
    }
   ],
   "source": [
    "df_scandens.info() # Tampoco"
   ]
  },
  {
   "cell_type": "markdown",
   "id": "d6124e28",
   "metadata": {},
   "source": [
    "## PARTE JOSE"
   ]
  },
  {
   "cell_type": "code",
   "execution_count": null,
   "id": "3c347d5b",
   "metadata": {},
   "outputs": [],
   "source": []
  },
  {
   "cell_type": "markdown",
   "id": "5d1c64fb",
   "metadata": {},
   "source": [
    "## PARTE JESUS"
   ]
  },
  {
   "cell_type": "markdown",
   "id": "279f4577",
   "metadata": {},
   "source": [
    "## ¿Existe realmente una diferencia entre las aves de 1975 y las de 2012?"
   ]
  },
  {
   "cell_type": "markdown",
   "id": "71eae03a",
   "metadata": {},
   "source": [
    "Uno de los objetivos presentados en este proyecto fue el de determinar si en realidad había una diferencia entre las caracteristicas de los picos de los fringílidos. Para esto podemos realizar una prueba de hipótesis, para tratar de determinar si la media tanto de la longitud como de la profundad de los picos en estas especies es diferente entre los años.\n",
    "\n",
    "Sin embargo, como nuestro dataset incluye muestras de dos diferentes especies, es necesario separarlas de manera correspondiente."
   ]
  },
  {
   "cell_type": "code",
   "execution_count": 7,
   "id": "ce26bab5",
   "metadata": {},
   "outputs": [
    {
     "name": "stdout",
     "output_type": "stream",
     "text": [
      "Tamaño de muestra G. scandens en 1975: 87\n",
      "Tamaño de muestra G. scandens en 2012: 127\n"
     ]
    }
   ],
   "source": [
    "# Separamos para la especie scandens\n",
    "df_scandens_1975 = df_1975[df_1975['species'] == 'scandens']\n",
    "df_scandens_2012 = df_2012[df_2012['species'] == 'scandens']\n",
    "\n",
    "print(f\"Tamaño de muestra G. scandens en 1975: {df_scandens_1975.shape[0]}\")\n",
    "print(f\"Tamaño de muestra G. scandens en 2012: {df_scandens_2012.shape[0]}\")"
   ]
  },
  {
   "cell_type": "code",
   "execution_count": 8,
   "id": "8a5503c2",
   "metadata": {},
   "outputs": [
    {
     "name": "stdout",
     "output_type": "stream",
     "text": [
      "Tamaño de muestra G. fortis en 1975: 316\n",
      "Tamaño de muestra G. fortis en 2012: 121\n"
     ]
    }
   ],
   "source": [
    "df_fortis_1975 = df_1975[df_1975['species'] == 'fortis']\n",
    "df_fortis_2012 = df_2012[df_2012['species'] == 'fortis']\n",
    "\n",
    "print(f\"Tamaño de muestra G. fortis en 1975: {df_fortis_1975.shape[0]}\")\n",
    "print(f\"Tamaño de muestra G. fortis en 2012: {df_fortis_2012.shape[0]}\")"
   ]
  },
  {
   "cell_type": "markdown",
   "id": "0a4a13a4",
   "metadata": {},
   "source": [
    "Una vez separadas nuestras muestras, podemos tratar de observar si existe alguna diferencia entre el promedio de éstas."
   ]
  },
  {
   "cell_type": "code",
   "execution_count": 9,
   "id": "bd9447d0",
   "metadata": {},
   "outputs": [
    {
     "name": "stdout",
     "output_type": "stream",
     "text": [
      "Longitud promedio del pico para G. fortis en 1975: 10.5652 mm\n",
      "Longitud promedio del pico para G. fortis en 2012: 10.5174 mm\n"
     ]
    }
   ],
   "source": [
    "print(f\"Longitud promedio del pico para G. fortis en 1975: {df_fortis_1975['Beak length, mm'].mean():.4f} mm\")\n",
    "print(f\"Longitud promedio del pico para G. fortis en 2012: {df_fortis_2012['blength'].mean():.4f} mm\")"
   ]
  },
  {
   "cell_type": "code",
   "execution_count": 10,
   "id": "475f585e",
   "metadata": {},
   "outputs": [
    {
     "name": "stdout",
     "output_type": "stream",
     "text": [
      "Profundidad promedio del pico para G. fortis en 1975: 9.1716 mm\n",
      "Profundidad promedio del pico para G. fortis en 2025: 8.6054 mm\n"
     ]
    }
   ],
   "source": [
    "print(f\"Profundidad promedio del pico para G. fortis en 1975: {df_fortis_1975['Beak depth, mm'].mean():.4f} mm\")\n",
    "print(f\"Profundidad promedio del pico para G. fortis en 2025: {df_fortis_2012['bdepth'].mean():.4f} mm\")"
   ]
  },
  {
   "cell_type": "markdown",
   "id": "0a22631d",
   "metadata": {},
   "source": [
    "A simple vista, puede parecer que tanto la longitud como la profundidad del pico de la especie *G. fortis* parecen haberse encogido, pero para determinar si hay una verdadera diferencia entre las aves en ambos años, podemos plantearnos la siguiente prueba de hipótesis.\n",
    "\n",
    "$$ \n",
    "\\begin{matrix}\n",
    "H_0: & \\mu_0 - \\mu_1 = 0\\\\\n",
    "H_1: & \\mu_0 - \\mu_1 > 0\n",
    "\\end{matrix}\n",
    "$$\n",
    "\n",
    "Donde $\\mu_0$ y $\\mu_1$ se refieren a la característica promedio de la especie en 1975 y en 2012, respectivamente. Aquí, la hipótesis nula indica que no existe una diferencia entre la característica promedio, es decir que $\\mu_0 = \\mu_1$, y la hipótesis alternativa propone que la característica del pico se ha encogido con el tiempo, o bien que $\\mu_0 > \\mu_1$, todo esto para un nivel de confiaza $\\alpha = 0.05$."
   ]
  },
  {
   "cell_type": "markdown",
   "id": "49b6155b",
   "metadata": {},
   "source": [
    "En los casos donde comparamos dos medias poblacionales, el estadístico de prueba está dado por:\n",
    "\n",
    "$$\n",
    "z = \\frac{\\bar{X} - \\bar{Y} - \\Delta_0}{\\sqrt{\\frac{\\sigma_{0}^{2}}{m} + \\frac{\\sigma_{1}^{2}}{n} }}\n",
    "$$\n",
    "\n",
    "En nuestro caso, los valores tanto de $\\sigma_{0}^{2}$ como $\\sigma_{1}^{2}$, los cuales representan las varianzas de ambas poblaciones, nos son desconocidos. Sin embargo, para tamaños de muestra suficientemente grandes, estos valores se pueden sustituir por las respectivas varianzas muestrales $S_{0}^{2}$ y $S_{1}^{2}$.\n",
    "\n",
    "Por otro lado, $\\Delta_0$ hace referencia a la diferencia de medias buscada, la cual en nuestro caso es igual a 0. Con estas nuevas consideraciones, podemos reescribir la expresión anterior como:\n",
    "\n",
    "$$\n",
    "z = \\frac{\\bar{X} - \\bar{Y}}{\\sqrt{\\frac{S_{0}^{2}}{m} + \\frac{S_{1}^{2}}{n} }}\n",
    "$$\n",
    "\n",
    "Asi, podemos comenzar a definir una funcion para obtener el valor de este estadistico:"
   ]
  },
  {
   "cell_type": "code",
   "execution_count": 11,
   "id": "23d0dd38",
   "metadata": {},
   "outputs": [],
   "source": [
    "def calcular_z(series1,series2):\n",
    "    \"\"\"\n",
    "    Obtener el valor de z a partir de dos series de pandas\n",
    "    \"\"\"\n",
    "    diff_prom = series1.mean() - series2.mean()\n",
    "    \n",
    "    valor1_raiz = (series1.var() / series1.size)\n",
    "    valor2_raiz = (series2.var() / series2.size)\n",
    "    \n",
    "    z = diff_prom / np.sqrt(valor1_raiz + valor2_raiz)\n",
    "    \n",
    "    return z"
   ]
  },
  {
   "cell_type": "markdown",
   "id": "2ffba87a",
   "metadata": {},
   "source": [
    "Con esto podemos obtener facilmente el valor del estadístico de prueba tanto para la longitud como la profundidad del pico para la especie *G. fortis*:"
   ]
  },
  {
   "cell_type": "code",
   "execution_count": 18,
   "id": "5458c94b",
   "metadata": {
    "scrolled": true
   },
   "outputs": [
    {
     "name": "stdout",
     "output_type": "stream",
     "text": [
      "Z para la longitud: 0.579\n",
      "Z para la profundidad: 7.217\n"
     ]
    }
   ],
   "source": [
    "z_long_fortis = calcular_z(df_fortis_1975['Beak length, mm'],df_fortis_2012['blength'])\n",
    "z_prof_fortis = calcular_z(df_fortis_1975['Beak depth, mm'],df_fortis_2012['bdepth'])\n",
    "\n",
    "print(f\"Z para la longitud: {z_long_fortis:.3f}\")\n",
    "print(f\"Z para la profundidad: {z_prof_fortis:.3f}\")"
   ]
  },
  {
   "cell_type": "markdown",
   "id": "82a01359",
   "metadata": {},
   "source": [
    "Una vez calculados los valores del estadístico de prueba, debemos obtener el valor crítico de z para saber si rechazaremos la hipótesis nula. Para el caso donde $H_1: \\mu_0 - \\mu_1 > 0$, el criterio de rechazo de la hipótesis nula para un valor determinado de $\\alpha$ es cuando $z \\geq z_{\\alpha}$. La libreria ```scipy``` nos ofrece una función que nos ayuda a calcular este valor:"
   ]
  },
  {
   "cell_type": "code",
   "execution_count": 19,
   "id": "6cc81b19",
   "metadata": {},
   "outputs": [
    {
     "name": "stdout",
     "output_type": "stream",
     "text": [
      "Z critico para 0.05: 1.645\n"
     ]
    }
   ],
   "source": [
    "z_critico = stats.norm.ppf(0.95)\n",
    "print(f\"Z critico para 0.05: {z_critico:.3f}\")"
   ]
  },
  {
   "cell_type": "markdown",
   "id": "4d265ecf",
   "metadata": {},
   "source": [
    "Comparando este valor con los estadísticos de prueba para la longitud y para la profundidad de los picos, podemos hacer las siguientes afirmaciones para la especie *G. fortis*:\n",
    "\n",
    "* Con los datos recabados, **existe eviencia para rechazar la hipótesis nula para el caso de la profundidad del pico**, con un nivel de confianza del 95%.\n",
    "\n",
    "* Con los datos recabados, **no existe eviencia para rechazar la hipótesis nula para el caso de la longitud del pico**, con un nivel de confianza del 95%.\n",
    "\n",
    "Estas afirmaciones nos dan a entender que existe evidencia de una disminución en los tamaños de profundidad del pico para las especies *G. fortis* que habitaban en 1975, y las que habitaban en el año 2012, mas no la existe para el caso de su longitud. Esto puede considerarse como evidencia de la evolución de estas especies a través del tiempo."
   ]
  },
  {
   "cell_type": "markdown",
   "id": "320f3856",
   "metadata": {},
   "source": [
    "Así, podemos realizar el mismo procedimiento para el caso de la segunda especie, *G. scandens*, y sus respectivas longitudes y profundidades del pico:"
   ]
  },
  {
   "cell_type": "code",
   "execution_count": 15,
   "id": "812185bb",
   "metadata": {},
   "outputs": [
    {
     "name": "stdout",
     "output_type": "stream",
     "text": [
      "Longitud promedio del pico para G. scandens en 1975: 14.1209 mm\n",
      "Longitud promedio del pico para G. scandens en 2012: 13.4210 mm\n"
     ]
    }
   ],
   "source": [
    "print(f\"Longitud promedio del pico para G. scandens en 1975: {df_scandens_1975['Beak length, mm'].mean():.4f} mm\")\n",
    "print(f\"Longitud promedio del pico para G. scandens en 2012: {df_scandens_2012['blength'].mean():.4f} mm\")"
   ]
  },
  {
   "cell_type": "code",
   "execution_count": 16,
   "id": "735e6055",
   "metadata": {},
   "outputs": [
    {
     "name": "stdout",
     "output_type": "stream",
     "text": [
      "Profundidad promedio del pico para G. scandens en 1975: 8.9600 mm\n",
      "Profundidad promedio del pico para G. scandens en 2025: 9.1862 mm\n"
     ]
    }
   ],
   "source": [
    "print(f\"Profundidad promedio del pico para G. scandens en 1975: {df_scandens_1975['Beak depth, mm'].mean():.4f} mm\")\n",
    "print(f\"Profundidad promedio del pico para G. scandens en 2025: {df_scandens_2012['bdepth'].mean():.4f} mm\")"
   ]
  },
  {
   "cell_type": "code",
   "execution_count": 20,
   "id": "6d385a62",
   "metadata": {},
   "outputs": [
    {
     "name": "stdout",
     "output_type": "stream",
     "text": [
      "Z para la longitud: 6.787\n",
      "Z para la profundidad: -2.663\n"
     ]
    }
   ],
   "source": [
    "z_long_scandens = calcular_z(df_scandens_1975['Beak length, mm'],df_scandens_2012['blength'])\n",
    "z_prof_scandens = calcular_z(df_scandens_1975['Beak depth, mm'],df_scandens_2012['bdepth'])\n",
    "\n",
    "print(f\"Z para la longitud: {z_long_scandens:.3f}\")\n",
    "print(f\"Z para la profundidad: {z_prof_scandens:.3f}\")"
   ]
  },
  {
   "cell_type": "markdown",
   "id": "46471530",
   "metadata": {},
   "source": [
    "Recordemos que el valor crítico para esta prueba es de 1.645, por lo que el criterio de rechazo $ z \\geq z_{\\alpha}$ se cumple para la longitud, mas no para la profundidad. Esto nos indica que, para *G. scandens*:\n",
    "\n",
    "* Con los datos recabados, **existe eviencia para rechazar la hipótesis nula para el caso de la longitud del pico**, con un nivel de confianza del 95%.\n",
    "\n",
    "* Con los datos recabados, **no existe eviencia para rechazar la hipótesis nula para el caso de la profundidad del pico**, con un nivel de confianza del 95%.\n",
    "\n",
    "Con estas afirmaciones, podemos decir que existe evidencia de que la longitud del pico de la especie *G. scandens* se ha ido encogiendo a lo largo de los años, mas no es el caso de la profundidad del mismo."
   ]
  },
  {
   "cell_type": "code",
   "execution_count": null,
   "id": "530216e2",
   "metadata": {},
   "outputs": [],
   "source": []
  }
 ],
 "metadata": {
  "kernelspec": {
   "display_name": "Python 3 (ipykernel)",
   "language": "python",
   "name": "python3"
  },
  "language_info": {
   "codemirror_mode": {
    "name": "ipython",
    "version": 3
   },
   "file_extension": ".py",
   "mimetype": "text/x-python",
   "name": "python",
   "nbconvert_exporter": "python",
   "pygments_lexer": "ipython3",
   "version": "3.10.9"
  }
 },
 "nbformat": 4,
 "nbformat_minor": 5
}
