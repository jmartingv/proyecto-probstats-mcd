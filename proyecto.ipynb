{
 "cells": [
  {
   "cell_type": "markdown",
   "id": "0fdafda3",
   "metadata": {},
   "source": [
    "# Proyecto: Los pinzones de Darwin\n",
    "\n",
    "**Equipo:**\n",
    "* José Alberto Leyva Contreras\n",
    "* Jesús Martín Gaytán Villarreal"
   ]
  },
  {
   "cell_type": "markdown",
   "id": "d0456809",
   "metadata": {},
   "source": [
    "## Los Grant, Darwin y los Pinzones\n",
    "\n",
    "Durante los últimos más de 40 años (de 1973 a 2013), Peter y Rosemary Grant visitaron la isla Daphne Major de Galápagos y recopilaron datos sobre los pinzones de Darwin para estudiar la teoría de la evolución de Darwin.\n",
    "\n",
    "Los Grant pasaron años observando, marcando y midiendo los pinzones de Darwin y su entorno. Durante ese tiempo documentaron cambios ambientales y cómo estos cambios favorecieron a ciertos individuos dentro de la población, ilustrando la selección natural en acción.\n",
    "\n",
    "### Conjunto de Datos\n",
    "\n",
    "El conjunto de datos se centra en la dimensión del pico de los pinzones. Para los pinzones, el tamaño y la forma de sus picos son rasgos que varían para adaptarse a los cambios ambientales. La relación entre el tamaño del pico y los eventos ecológicos que se ha popularizado un poco como un ejemplo de \"evolución que ocurre ante nuestros ojos\".\n",
    "\n",
    "Este conjunto de datos fue tomado de [Kaggle](https://www.kaggle.com/datasets/crbelhekar619/darwins-finches-evolution-dataset)"
   ]
  },
  {
   "cell_type": "markdown",
   "id": "f9abe9dc",
   "metadata": {},
   "source": [
    "## Objetivos\n",
    "\n",
    "* Realizar un análisis exploratorio de datos (EDA) con la finalidad de mejor la distribución de los datos utilizados (en este caso, las caracteristicas de los picos de los fringílidos a lo largo de los años y de la información hereditaria), como estan clasificados, su distribución, media, quartiles, etc.\n",
    "\n",
    "* Determinar mediante una prueba de hipótesis si realmente hubo un cambio entre las caracteristicas del pico de estos animales a lo largo de los años."
   ]
  },
  {
   "cell_type": "markdown",
   "id": "e37e75f2",
   "metadata": {},
   "source": [
    "## Preparación y procesamiento preliminar de los datos"
   ]
  },
  {
   "cell_type": "code",
   "execution_count": 1,
   "id": "f3a60fba",
   "metadata": {
    "scrolled": true
   },
   "outputs": [],
   "source": [
    "# Librerias utiles\n",
    "import pandas as pd\n",
    "import numpy as np\n",
    "import matplotlib.pyplot as plt\n",
    "import seaborn as sns\n",
    "import scipy.stats as stats"
   ]
  },
  {
   "cell_type": "markdown",
   "id": "faeae76b",
   "metadata": {},
   "source": [
    "Comenzamos importando nuestros dataset en un par de dataframes, para su facilidad de procesamiento"
   ]
  },
  {
   "cell_type": "code",
   "execution_count": 2,
   "id": "73a5c40b",
   "metadata": {
    "scrolled": true
   },
   "outputs": [],
   "source": [
    "df_1975 = pd.read_csv('./data/finch_beaks_1975.csv')\n",
    "df_2012 = pd.read_csv('./data/finch_beaks_2012.csv')"
   ]
  },
  {
   "cell_type": "markdown",
   "id": "1e0100fb",
   "metadata": {},
   "source": [
    "Despues, procedemos a hacer un precesamiento de los datos y hacer cálculos de estadística descriptiva junto con un Análisis Exploratorio de Datos.\n",
    "\n",
    "Tenemos en total 2 conjuntos de Datos\n",
    "- Finch Beak 1975: Las medidas del pico de los pinzones registrada en 1975, en mm.\n",
    "- Finch Beak 2012: Las medidas del pico de los pinzones registrada en 2012, en mm.\n",
    "\n",
    "A continuación, vemos que los datasets no cuentan con ninguna entrada nula, por lo que no es necesaria su limpieza"
   ]
  },
  {
   "cell_type": "code",
   "execution_count": 3,
   "id": "15a1f325",
   "metadata": {
    "scrolled": false
   },
   "outputs": [
    {
     "name": "stdout",
     "output_type": "stream",
     "text": [
      "<class 'pandas.core.frame.DataFrame'>\n",
      "RangeIndex: 403 entries, 0 to 402\n",
      "Data columns (total 4 columns):\n",
      " #   Column           Non-Null Count  Dtype  \n",
      "---  ------           --------------  -----  \n",
      " 0   band             403 non-null    int64  \n",
      " 1   species          403 non-null    object \n",
      " 2   Beak length, mm  403 non-null    float64\n",
      " 3   Beak depth, mm   403 non-null    float64\n",
      "dtypes: float64(2), int64(1), object(1)\n",
      "memory usage: 12.7+ KB\n"
     ]
    }
   ],
   "source": [
    "df_1975.info() # No hay valores nulos"
   ]
  },
  {
   "cell_type": "code",
   "execution_count": 4,
   "id": "680b234c",
   "metadata": {
    "scrolled": true
   },
   "outputs": [
    {
     "name": "stdout",
     "output_type": "stream",
     "text": [
      "<class 'pandas.core.frame.DataFrame'>\n",
      "RangeIndex: 248 entries, 0 to 247\n",
      "Data columns (total 4 columns):\n",
      " #   Column   Non-Null Count  Dtype  \n",
      "---  ------   --------------  -----  \n",
      " 0   band     248 non-null    int64  \n",
      " 1   species  248 non-null    object \n",
      " 2   blength  248 non-null    float64\n",
      " 3   bdepth   248 non-null    float64\n",
      "dtypes: float64(2), int64(1), object(1)\n",
      "memory usage: 7.9+ KB\n"
     ]
    }
   ],
   "source": [
    "df_2012.info() # Tampoco hay valores nulos"
   ]
  },
  {
   "cell_type": "markdown",
   "id": "d6124e28",
   "metadata": {},
   "source": [
    "## Estadística descriptiva"
   ]
  },
  {
   "cell_type": "markdown",
   "id": "f64f627e",
   "metadata": {},
   "source": [
    "Tras ver la información de los datos, vemos que no existen datos faltantes. Además que la mayoría de las variables son numéricas, exceptuando por las especies.\n",
    "\n",
    "Si observamos los valores de la columna species..."
   ]
  },
  {
   "cell_type": "code",
   "execution_count": 5,
   "id": "3c347d5b",
   "metadata": {
    "scrolled": true
   },
   "outputs": [
    {
     "name": "stdout",
     "output_type": "stream",
     "text": [
      "['fortis' 'scandens']\n",
      "['fortis' 'scandens']\n"
     ]
    }
   ],
   "source": [
    "# Vemos que los valores de la columna species son fortis y scandens en ambos dataframes\n",
    "print(df_1975['species'].unique()) \n",
    "print(df_2012['species'].unique())"
   ]
  },
  {
   "cell_type": "markdown",
   "id": "c284ffb3",
   "metadata": {},
   "source": [
    "\n",
    "Otra cosa que hay que observar es que el nombre de las columnas no son iguales (tanto en el dataframe de 1975 como en el de 2012). Renombraremos las columnas para mantener la consistencia entre los dos dataframes\n"
   ]
  },
  {
   "cell_type": "code",
   "execution_count": 6,
   "id": "62706b97",
   "metadata": {
    "scrolled": true
   },
   "outputs": [],
   "source": [
    "# Renombrando las columnas para mantener consistencia entre los nombres\n",
    "\n",
    "df_1975.rename(\n",
    "    columns={'Beak length, mm': 'beak_length', 'Beak depth, mm': 'beak_depth'}, \n",
    "    inplace=True\n",
    ")\n",
    "\n",
    "df_2012.rename(\n",
    "    columns={'blength': 'beak_length', 'bdepth': 'beak_depth'},\n",
    "    inplace=True\n",
    ")"
   ]
  },
  {
   "cell_type": "markdown",
   "id": "1e0540c8",
   "metadata": {},
   "source": [
    "Podemos extraer medidas de tendencia central sobre los datasets (media, moda, desviación estandar, quartiles)"
   ]
  },
  {
   "cell_type": "code",
   "execution_count": 7,
   "id": "aea8ab3e",
   "metadata": {
    "scrolled": true
   },
   "outputs": [
    {
     "data": {
      "text/html": [
       "<div>\n",
       "<style scoped>\n",
       "    .dataframe tbody tr th:only-of-type {\n",
       "        vertical-align: middle;\n",
       "    }\n",
       "\n",
       "    .dataframe tbody tr th {\n",
       "        vertical-align: top;\n",
       "    }\n",
       "\n",
       "    .dataframe thead th {\n",
       "        text-align: right;\n",
       "    }\n",
       "</style>\n",
       "<table border=\"1\" class=\"dataframe\">\n",
       "  <thead>\n",
       "    <tr style=\"text-align: right;\">\n",
       "      <th></th>\n",
       "      <th>band</th>\n",
       "      <th>beak_length</th>\n",
       "      <th>beak_depth</th>\n",
       "    </tr>\n",
       "  </thead>\n",
       "  <tbody>\n",
       "    <tr>\n",
       "      <th>count</th>\n",
       "      <td>403.000000</td>\n",
       "      <td>403.000000</td>\n",
       "      <td>403.000000</td>\n",
       "    </tr>\n",
       "    <tr>\n",
       "      <th>mean</th>\n",
       "      <td>1873.183623</td>\n",
       "      <td>11.332804</td>\n",
       "      <td>9.125955</td>\n",
       "    </tr>\n",
       "    <tr>\n",
       "      <th>std</th>\n",
       "      <td>4584.953069</td>\n",
       "      <td>1.619126</td>\n",
       "      <td>0.708737</td>\n",
       "    </tr>\n",
       "    <tr>\n",
       "      <th>min</th>\n",
       "      <td>2.000000</td>\n",
       "      <td>8.700000</td>\n",
       "      <td>7.500000</td>\n",
       "    </tr>\n",
       "    <tr>\n",
       "      <th>25%</th>\n",
       "      <td>458.500000</td>\n",
       "      <td>10.200000</td>\n",
       "      <td>8.600000</td>\n",
       "    </tr>\n",
       "    <tr>\n",
       "      <th>50%</th>\n",
       "      <td>671.000000</td>\n",
       "      <td>10.900000</td>\n",
       "      <td>9.100000</td>\n",
       "    </tr>\n",
       "    <tr>\n",
       "      <th>75%</th>\n",
       "      <td>899.500000</td>\n",
       "      <td>11.740000</td>\n",
       "      <td>9.700000</td>\n",
       "    </tr>\n",
       "    <tr>\n",
       "      <th>max</th>\n",
       "      <td>20298.000000</td>\n",
       "      <td>15.940000</td>\n",
       "      <td>10.980000</td>\n",
       "    </tr>\n",
       "  </tbody>\n",
       "</table>\n",
       "</div>"
      ],
      "text/plain": [
       "               band  beak_length  beak_depth\n",
       "count    403.000000   403.000000  403.000000\n",
       "mean    1873.183623    11.332804    9.125955\n",
       "std     4584.953069     1.619126    0.708737\n",
       "min        2.000000     8.700000    7.500000\n",
       "25%      458.500000    10.200000    8.600000\n",
       "50%      671.000000    10.900000    9.100000\n",
       "75%      899.500000    11.740000    9.700000\n",
       "max    20298.000000    15.940000   10.980000"
      ]
     },
     "execution_count": 7,
     "metadata": {},
     "output_type": "execute_result"
    }
   ],
   "source": [
    "df_1975.describe()"
   ]
  },
  {
   "cell_type": "code",
   "execution_count": 8,
   "id": "1a2be5ac",
   "metadata": {
    "scrolled": true
   },
   "outputs": [
    {
     "data": {
      "text/html": [
       "<div>\n",
       "<style scoped>\n",
       "    .dataframe tbody tr th:only-of-type {\n",
       "        vertical-align: middle;\n",
       "    }\n",
       "\n",
       "    .dataframe tbody tr th {\n",
       "        vertical-align: top;\n",
       "    }\n",
       "\n",
       "    .dataframe thead th {\n",
       "        text-align: right;\n",
       "    }\n",
       "</style>\n",
       "<table border=\"1\" class=\"dataframe\">\n",
       "  <thead>\n",
       "    <tr style=\"text-align: right;\">\n",
       "      <th></th>\n",
       "      <th>band</th>\n",
       "      <th>beak_length</th>\n",
       "      <th>beak_depth</th>\n",
       "    </tr>\n",
       "  </thead>\n",
       "  <tbody>\n",
       "    <tr>\n",
       "      <th>count</th>\n",
       "      <td>248.000000</td>\n",
       "      <td>248.000000</td>\n",
       "      <td>248.000000</td>\n",
       "    </tr>\n",
       "    <tr>\n",
       "      <th>mean</th>\n",
       "      <td>20119.641129</td>\n",
       "      <td>12.004315</td>\n",
       "      <td>8.902823</td>\n",
       "    </tr>\n",
       "    <tr>\n",
       "      <th>std</th>\n",
       "      <td>844.713528</td>\n",
       "      <td>1.642203</td>\n",
       "      <td>0.757521</td>\n",
       "    </tr>\n",
       "    <tr>\n",
       "      <th>min</th>\n",
       "      <td>19022.000000</td>\n",
       "      <td>9.000000</td>\n",
       "      <td>7.200000</td>\n",
       "    </tr>\n",
       "    <tr>\n",
       "      <th>25%</th>\n",
       "      <td>19436.750000</td>\n",
       "      <td>10.475000</td>\n",
       "      <td>8.300000</td>\n",
       "    </tr>\n",
       "    <tr>\n",
       "      <th>50%</th>\n",
       "      <td>19817.500000</td>\n",
       "      <td>12.300000</td>\n",
       "      <td>8.900000</td>\n",
       "    </tr>\n",
       "    <tr>\n",
       "      <th>75%</th>\n",
       "      <td>21135.250000</td>\n",
       "      <td>13.425000</td>\n",
       "      <td>9.400000</td>\n",
       "    </tr>\n",
       "    <tr>\n",
       "      <th>max</th>\n",
       "      <td>22000.000000</td>\n",
       "      <td>15.200000</td>\n",
       "      <td>11.100000</td>\n",
       "    </tr>\n",
       "  </tbody>\n",
       "</table>\n",
       "</div>"
      ],
      "text/plain": [
       "               band  beak_length  beak_depth\n",
       "count    248.000000   248.000000  248.000000\n",
       "mean   20119.641129    12.004315    8.902823\n",
       "std      844.713528     1.642203    0.757521\n",
       "min    19022.000000     9.000000    7.200000\n",
       "25%    19436.750000    10.475000    8.300000\n",
       "50%    19817.500000    12.300000    8.900000\n",
       "75%    21135.250000    13.425000    9.400000\n",
       "max    22000.000000    15.200000   11.100000"
      ]
     },
     "execution_count": 8,
     "metadata": {},
     "output_type": "execute_result"
    }
   ],
   "source": [
    "df_2012.describe()"
   ]
  },
  {
   "cell_type": "markdown",
   "id": "2b9bbcce",
   "metadata": {},
   "source": [
    "Sin embargo, esto no nos dice mucho, ya que combina ambas especies. Mejor hay que crear un dataset para cada especie, dependiendo del año en que fueron registrados:"
   ]
  },
  {
   "cell_type": "code",
   "execution_count": 9,
   "id": "213250e2",
   "metadata": {
    "scrolled": true
   },
   "outputs": [],
   "source": [
    "# Primero, agreguemos una columna para diferenciar los datos de 1975 y 2012\n",
    "df_1975['year'] = 1975\n",
    "df_2012['year'] = 2012"
   ]
  },
  {
   "cell_type": "code",
   "execution_count": 10,
   "id": "ca426508",
   "metadata": {
    "scrolled": false
   },
   "outputs": [
    {
     "data": {
      "text/html": [
       "<div>\n",
       "<style scoped>\n",
       "    .dataframe tbody tr th:only-of-type {\n",
       "        vertical-align: middle;\n",
       "    }\n",
       "\n",
       "    .dataframe tbody tr th {\n",
       "        vertical-align: top;\n",
       "    }\n",
       "\n",
       "    .dataframe thead th {\n",
       "        text-align: right;\n",
       "    }\n",
       "</style>\n",
       "<table border=\"1\" class=\"dataframe\">\n",
       "  <thead>\n",
       "    <tr style=\"text-align: right;\">\n",
       "      <th></th>\n",
       "      <th>band</th>\n",
       "      <th>species</th>\n",
       "      <th>beak_length</th>\n",
       "      <th>beak_depth</th>\n",
       "      <th>year</th>\n",
       "    </tr>\n",
       "  </thead>\n",
       "  <tbody>\n",
       "    <tr>\n",
       "      <th>0</th>\n",
       "      <td>302</td>\n",
       "      <td>scandens</td>\n",
       "      <td>13.9</td>\n",
       "      <td>8.4</td>\n",
       "      <td>1975</td>\n",
       "    </tr>\n",
       "    <tr>\n",
       "      <th>1</th>\n",
       "      <td>304</td>\n",
       "      <td>scandens</td>\n",
       "      <td>14.0</td>\n",
       "      <td>8.8</td>\n",
       "      <td>1975</td>\n",
       "    </tr>\n",
       "    <tr>\n",
       "      <th>2</th>\n",
       "      <td>306</td>\n",
       "      <td>scandens</td>\n",
       "      <td>12.9</td>\n",
       "      <td>8.4</td>\n",
       "      <td>1975</td>\n",
       "    </tr>\n",
       "    <tr>\n",
       "      <th>3</th>\n",
       "      <td>310</td>\n",
       "      <td>scandens</td>\n",
       "      <td>13.5</td>\n",
       "      <td>8.0</td>\n",
       "      <td>1975</td>\n",
       "    </tr>\n",
       "    <tr>\n",
       "      <th>4</th>\n",
       "      <td>317</td>\n",
       "      <td>scandens</td>\n",
       "      <td>12.9</td>\n",
       "      <td>7.9</td>\n",
       "      <td>1975</td>\n",
       "    </tr>\n",
       "    <tr>\n",
       "      <th>...</th>\n",
       "      <td>...</td>\n",
       "      <td>...</td>\n",
       "      <td>...</td>\n",
       "      <td>...</td>\n",
       "      <td>...</td>\n",
       "    </tr>\n",
       "    <tr>\n",
       "      <th>209</th>\n",
       "      <td>21295</td>\n",
       "      <td>scandens</td>\n",
       "      <td>14.2</td>\n",
       "      <td>9.3</td>\n",
       "      <td>2012</td>\n",
       "    </tr>\n",
       "    <tr>\n",
       "      <th>210</th>\n",
       "      <td>21297</td>\n",
       "      <td>scandens</td>\n",
       "      <td>13.0</td>\n",
       "      <td>9.8</td>\n",
       "      <td>2012</td>\n",
       "    </tr>\n",
       "    <tr>\n",
       "      <th>211</th>\n",
       "      <td>21340</td>\n",
       "      <td>scandens</td>\n",
       "      <td>14.6</td>\n",
       "      <td>8.9</td>\n",
       "      <td>2012</td>\n",
       "    </tr>\n",
       "    <tr>\n",
       "      <th>212</th>\n",
       "      <td>21342</td>\n",
       "      <td>scandens</td>\n",
       "      <td>13.1</td>\n",
       "      <td>9.8</td>\n",
       "      <td>2012</td>\n",
       "    </tr>\n",
       "    <tr>\n",
       "      <th>213</th>\n",
       "      <td>21347</td>\n",
       "      <td>scandens</td>\n",
       "      <td>15.2</td>\n",
       "      <td>9.1</td>\n",
       "      <td>2012</td>\n",
       "    </tr>\n",
       "  </tbody>\n",
       "</table>\n",
       "<p>214 rows × 5 columns</p>\n",
       "</div>"
      ],
      "text/plain": [
       "      band   species  beak_length  beak_depth  year\n",
       "0      302  scandens         13.9         8.4  1975\n",
       "1      304  scandens         14.0         8.8  1975\n",
       "2      306  scandens         12.9         8.4  1975\n",
       "3      310  scandens         13.5         8.0  1975\n",
       "4      317  scandens         12.9         7.9  1975\n",
       "..     ...       ...          ...         ...   ...\n",
       "209  21295  scandens         14.2         9.3  2012\n",
       "210  21297  scandens         13.0         9.8  2012\n",
       "211  21340  scandens         14.6         8.9  2012\n",
       "212  21342  scandens         13.1         9.8  2012\n",
       "213  21347  scandens         15.2         9.1  2012\n",
       "\n",
       "[214 rows x 5 columns]"
      ]
     },
     "execution_count": 10,
     "metadata": {},
     "output_type": "execute_result"
    }
   ],
   "source": [
    "# Filtremos los dataframes para la especie 'Scandens' y concatémoslo en un solo dataset\n",
    "\n",
    "df_1975_scandens = df_1975[df_1975['species']=='scandens']\n",
    "df_2012_scandens = df_2012[df_2012['species']=='scandens']\n",
    "\n",
    "df_scandens = pd.concat([df_1975_scandens, df_2012_scandens], ignore_index=True)\n",
    "\n",
    "df_scandens"
   ]
  },
  {
   "cell_type": "markdown",
   "id": "ad2b56d2",
   "metadata": {},
   "source": [
    "### Realizando un análisis sobre la Evolución de la especie Scandens\n",
    "\n",
    "A continuación, haremos un EDA sobre el dataframe generado. Comenzamos con algunas estadisticas de resumen sobre nuestro dataset. Como todas las columnas de éste son numéricas, debemos especificar las variables que nos interesan.\n",
    "\n",
    "Comenzamos con la descripción de las estadisticas en 1975."
   ]
  },
  {
   "cell_type": "code",
   "execution_count": 11,
   "id": "b55de5a1",
   "metadata": {
    "scrolled": false
   },
   "outputs": [
    {
     "data": {
      "text/html": [
       "<div>\n",
       "<style scoped>\n",
       "    .dataframe tbody tr th:only-of-type {\n",
       "        vertical-align: middle;\n",
       "    }\n",
       "\n",
       "    .dataframe tbody tr th {\n",
       "        vertical-align: top;\n",
       "    }\n",
       "\n",
       "    .dataframe thead th {\n",
       "        text-align: right;\n",
       "    }\n",
       "</style>\n",
       "<table border=\"1\" class=\"dataframe\">\n",
       "  <thead>\n",
       "    <tr style=\"text-align: right;\">\n",
       "      <th></th>\n",
       "      <th>beak_length</th>\n",
       "      <th>beak_depth</th>\n",
       "    </tr>\n",
       "  </thead>\n",
       "  <tbody>\n",
       "    <tr>\n",
       "      <th>count</th>\n",
       "      <td>87.000000</td>\n",
       "      <td>87.000000</td>\n",
       "    </tr>\n",
       "    <tr>\n",
       "      <th>mean</th>\n",
       "      <td>14.120920</td>\n",
       "      <td>8.960000</td>\n",
       "    </tr>\n",
       "    <tr>\n",
       "      <th>std</th>\n",
       "      <td>0.754789</td>\n",
       "      <td>0.566595</td>\n",
       "    </tr>\n",
       "    <tr>\n",
       "      <th>min</th>\n",
       "      <td>12.800000</td>\n",
       "      <td>7.900000</td>\n",
       "    </tr>\n",
       "    <tr>\n",
       "      <th>25%</th>\n",
       "      <td>13.500000</td>\n",
       "      <td>8.550000</td>\n",
       "    </tr>\n",
       "    <tr>\n",
       "      <th>50%</th>\n",
       "      <td>14.000000</td>\n",
       "      <td>9.000000</td>\n",
       "    </tr>\n",
       "    <tr>\n",
       "      <th>75%</th>\n",
       "      <td>14.740000</td>\n",
       "      <td>9.250000</td>\n",
       "    </tr>\n",
       "    <tr>\n",
       "      <th>max</th>\n",
       "      <td>15.940000</td>\n",
       "      <td>10.400000</td>\n",
       "    </tr>\n",
       "  </tbody>\n",
       "</table>\n",
       "</div>"
      ],
      "text/plain": [
       "       beak_length  beak_depth\n",
       "count    87.000000   87.000000\n",
       "mean     14.120920    8.960000\n",
       "std       0.754789    0.566595\n",
       "min      12.800000    7.900000\n",
       "25%      13.500000    8.550000\n",
       "50%      14.000000    9.000000\n",
       "75%      14.740000    9.250000\n",
       "max      15.940000   10.400000"
      ]
     },
     "execution_count": 11,
     "metadata": {},
     "output_type": "execute_result"
    }
   ],
   "source": [
    "df_1975_scandens[['beak_length','beak_depth']].describe()"
   ]
  },
  {
   "cell_type": "markdown",
   "id": "e76917e1",
   "metadata": {},
   "source": [
    "Después, comparemos con las del año 2012:"
   ]
  },
  {
   "cell_type": "code",
   "execution_count": 12,
   "id": "6c1473f6",
   "metadata": {
    "scrolled": false
   },
   "outputs": [
    {
     "data": {
      "text/html": [
       "<div>\n",
       "<style scoped>\n",
       "    .dataframe tbody tr th:only-of-type {\n",
       "        vertical-align: middle;\n",
       "    }\n",
       "\n",
       "    .dataframe tbody tr th {\n",
       "        vertical-align: top;\n",
       "    }\n",
       "\n",
       "    .dataframe thead th {\n",
       "        text-align: right;\n",
       "    }\n",
       "</style>\n",
       "<table border=\"1\" class=\"dataframe\">\n",
       "  <thead>\n",
       "    <tr style=\"text-align: right;\">\n",
       "      <th></th>\n",
       "      <th>beak_length</th>\n",
       "      <th>beak_depth</th>\n",
       "    </tr>\n",
       "  </thead>\n",
       "  <tbody>\n",
       "    <tr>\n",
       "      <th>count</th>\n",
       "      <td>127.000000</td>\n",
       "      <td>127.000000</td>\n",
       "    </tr>\n",
       "    <tr>\n",
       "      <th>mean</th>\n",
       "      <td>13.421024</td>\n",
       "      <td>9.186220</td>\n",
       "    </tr>\n",
       "    <tr>\n",
       "      <th>std</th>\n",
       "      <td>0.720393</td>\n",
       "      <td>0.669241</td>\n",
       "    </tr>\n",
       "    <tr>\n",
       "      <th>min</th>\n",
       "      <td>11.400000</td>\n",
       "      <td>7.700000</td>\n",
       "    </tr>\n",
       "    <tr>\n",
       "      <th>25%</th>\n",
       "      <td>13.000000</td>\n",
       "      <td>8.800000</td>\n",
       "    </tr>\n",
       "    <tr>\n",
       "      <th>50%</th>\n",
       "      <td>13.400000</td>\n",
       "      <td>9.200000</td>\n",
       "    </tr>\n",
       "    <tr>\n",
       "      <th>75%</th>\n",
       "      <td>13.900000</td>\n",
       "      <td>9.600000</td>\n",
       "    </tr>\n",
       "    <tr>\n",
       "      <th>max</th>\n",
       "      <td>15.200000</td>\n",
       "      <td>11.000000</td>\n",
       "    </tr>\n",
       "  </tbody>\n",
       "</table>\n",
       "</div>"
      ],
      "text/plain": [
       "       beak_length  beak_depth\n",
       "count   127.000000  127.000000\n",
       "mean     13.421024    9.186220\n",
       "std       0.720393    0.669241\n",
       "min      11.400000    7.700000\n",
       "25%      13.000000    8.800000\n",
       "50%      13.400000    9.200000\n",
       "75%      13.900000    9.600000\n",
       "max      15.200000   11.000000"
      ]
     },
     "execution_count": 12,
     "metadata": {},
     "output_type": "execute_result"
    }
   ],
   "source": [
    "df_2012_scandens[['beak_length','beak_depth']].describe()"
   ]
  },
  {
   "cell_type": "markdown",
   "id": "1f01f419",
   "metadata": {},
   "source": [
    "Si bien vemos que los valores son muy parecidos, puede ser un poco tedioso comparar ambas tablas fila por fila. Para facilitar este análisis y tratar de resaltar mejor la diferencia entre ambos dataset, podemos apoyarnos en algunas gráficas descriptivas. \n",
    "\n",
    "Comenzamos creando un par de histograma de las caracteristicas de *G. scandens*. Podemos interpolar las distribuciones de cada año para facilitar aun más su comparación."
   ]
  },
  {
   "cell_type": "code",
   "execution_count": 13,
   "id": "f6660f47",
   "metadata": {
    "scrolled": false
   },
   "outputs": [
    {
     "data": {
      "image/png": "[encoded data removed]",
      "text/plain": [
       "<Figure size 1600x900 with 2 Axes>"
      ]
     },
     "metadata": {},
     "output_type": "display_data"
    }
   ],
   "source": [
    "df_scandens_plot = df_scandens.copy()\n",
    "df_scandens_plot = df_scandens_plot.drop(['band'], axis=1)\n",
    "\n",
    "fig, (ax1,ax2) = plt.subplots(nrows=1,ncols=2)\n",
    "\n",
    "fig.set_size_inches(16,9)\n",
    "fig.suptitle('Distribucion de las medidas tomadas para G. scandens en 1975 y en 2012')\n",
    "\n",
    "sns.histplot(x = 'beak_length',\n",
    "             data = df_scandens_plot,\n",
    "             hue = 'year',\n",
    "             alpha = 0.8,\n",
    "             palette=sns.color_palette(\"tab10\",2),\n",
    "             ax = ax1)\n",
    "\n",
    "sns.histplot(x = 'beak_depth',\n",
    "             data = df_scandens_plot,\n",
    "             hue = 'year',\n",
    "             alpha = 0.8,\n",
    "             palette=sns.color_palette(\"tab10\",2),\n",
    "             ax = ax2)\n",
    "\n",
    "ax1.title.set_text('Distribucion de la longitud del pico, en mm')\n",
    "ax2.title.set_text('Distribucion de la profundidad del pico, en mm')\n",
    "\n",
    "ax1.set_xlabel('Longitud, mm')\n",
    "ax2.set_xlabel('Profundidad, mm')\n",
    "\n",
    "plt.tight_layout()\n",
    "plt.show()"
   ]
  },
  {
   "cell_type": "markdown",
   "id": "a3a7676b",
   "metadata": {},
   "source": [
    "A simple vista, podemos observar que ambas distribuciones se comportan de manera similar. La diferencia en el tamaño de ambas puede deberse al tamaño de las muestras. \n",
    "\n",
    "Podemos apreciar también que en el caso de la **longitud**, la distribución parece haberse recorrido un poco hacia la **izquierda** con el paso de los años. Por otro lado, la distribución de la **profundidad** parece haberse recorrido un poco hacia la **derecha**. Esto puede indicar una diferencia entre las medias de ambas muestras, y la población de donde surgieron, pero a simple vista no es posible concluir al respecto."
   ]
  },
  {
   "cell_type": "markdown",
   "id": "0f91e367",
   "metadata": {},
   "source": [
    "Estudiemos más a profundidad cómo ha cambiado con el tiempo la profundidad del pico (la distancia, de arriba a abajo, de un pico cerrado) de la especie de la especie scandens. Los Grant notaron algunos cambios en la geometría del pico dependiendo de los tipos de semillas disponibles en la isla, y también notaron que hubo algún mestizaje con otra especie importante en Daphne Major, Geospiza fortis. Estos efectos pueden conducir a cambios en la especie con el tiempo.\n",
    "\n",
    "Para empezar, representemos todas las medidas de profundidad del pico en 1975 y 2012 en un gráfico de bee swarm."
   ]
  },
  {
   "cell_type": "code",
   "execution_count": 14,
   "id": "fe84957f",
   "metadata": {
    "scrolled": false
   },
   "outputs": [
    {
     "data": {
      "image/png": "[encoded data removed]",
      "text/plain": [
       "<Figure size 1000x600 with 1 Axes>"
      ]
     },
     "metadata": {},
     "output_type": "display_data"
    }
   ],
   "source": [
    "fig = plt.figure(figsize=([10,6]))\n",
    "sns.set_style('darkgrid')\n",
    "\n",
    "g = sns.swarmplot(\n",
    "    x='year',\n",
    "    y='beak_depth',\n",
    "    data=df_scandens\n",
    ")\n",
    "\n",
    "plt.xlabel('year')\n",
    "plt.ylabel('beak depth (mm)')\n",
    "\n",
    "plt.show()"
   ]
  },
  {
   "cell_type": "markdown",
   "id": "39ef0207",
   "metadata": {},
   "source": [
    "Es difícil ver si hay una diferencia clara entre el conjunto de datos de 1975 y 2012. Observándolo, parece que la media del conjunto de datos de 2012 podría ser un poco más alta y podría tener una variación mayor."
   ]
  },
  {
   "cell_type": "code",
   "execution_count": 15,
   "id": "7e27967d",
   "metadata": {
    "scrolled": false
   },
   "outputs": [
    {
     "data": {
      "image/png": "[encoded data removed]",
      "text/plain": [
       "<Figure size 1600x900 with 2 Axes>"
      ]
     },
     "metadata": {},
     "output_type": "display_data"
    }
   ],
   "source": [
    "fig1_box, (ax1_box,ax2_box) = plt.subplots(nrows=1,ncols=2)\n",
    "\n",
    "fig1_box.set_size_inches(16,9)\n",
    "fig1_box.suptitle('Diagrama de cajas de las medidas tomadas para G. scandens en 1975 y en 2012')\n",
    "\n",
    "g = sns.boxplot(\n",
    "    x='year',\n",
    "    y='beak_length',\n",
    "    palette='tab10',\n",
    "    data=df_scandens,\n",
    "    ax = ax1_box\n",
    ")\n",
    "\n",
    "g1 = sns.boxplot(\n",
    "    x='year',\n",
    "    y='beak_depth',\n",
    "    palette='tab10',\n",
    "    data=df_scandens,\n",
    "    ax = ax2_box\n",
    ")\n",
    "\n",
    "ax1_box.title.set_text('Distribucion de la longitud del pico, en mm')\n",
    "ax2_box.title.set_text('Distribucion de la profundidad del pico, en mm')\n",
    "\n",
    "ax1_box.set_ylabel('Longitud, mm')\n",
    "ax1_box.set_xlabel('Año')\n",
    "\n",
    "ax2_box.set_ylabel('Profundidad, mm')\n",
    "ax2_box.set_xlabel('Año')\n",
    "\n",
    "plt.tight_layout()\n",
    "plt.show()"
   ]
  },
  {
   "cell_type": "markdown",
   "id": "b3ed2dd5",
   "metadata": {},
   "source": [
    "En estos boxplots podemos volver a apreciar la tendencia que sugerimos en los histogramas, por lo que *parece* haber una diferencia estadísticamente importante entre los picos de esta especie a través de los años."
   ]
  },
  {
   "cell_type": "markdown",
   "id": "84fc9e90",
   "metadata": {},
   "source": [
    "### Realizando un análisis sobre la Evolución de la especie Fortis\n",
    "\n",
    "A continuación, haremos un EDA similar, pero ahora sobre el dataframe generado de la especie *G. fortis*"
   ]
  },
  {
   "cell_type": "code",
   "execution_count": 16,
   "id": "00f60532",
   "metadata": {
    "scrolled": false
   },
   "outputs": [
    {
     "data": {
      "text/html": [
       "<div>\n",
       "<style scoped>\n",
       "    .dataframe tbody tr th:only-of-type {\n",
       "        vertical-align: middle;\n",
       "    }\n",
       "\n",
       "    .dataframe tbody tr th {\n",
       "        vertical-align: top;\n",
       "    }\n",
       "\n",
       "    .dataframe thead th {\n",
       "        text-align: right;\n",
       "    }\n",
       "</style>\n",
       "<table border=\"1\" class=\"dataframe\">\n",
       "  <thead>\n",
       "    <tr style=\"text-align: right;\">\n",
       "      <th></th>\n",
       "      <th>band</th>\n",
       "      <th>species</th>\n",
       "      <th>beak_length</th>\n",
       "      <th>beak_depth</th>\n",
       "      <th>year</th>\n",
       "    </tr>\n",
       "  </thead>\n",
       "  <tbody>\n",
       "    <tr>\n",
       "      <th>0</th>\n",
       "      <td>2</td>\n",
       "      <td>fortis</td>\n",
       "      <td>9.4</td>\n",
       "      <td>8.0</td>\n",
       "      <td>1975</td>\n",
       "    </tr>\n",
       "    <tr>\n",
       "      <th>1</th>\n",
       "      <td>9</td>\n",
       "      <td>fortis</td>\n",
       "      <td>9.2</td>\n",
       "      <td>8.3</td>\n",
       "      <td>1975</td>\n",
       "    </tr>\n",
       "    <tr>\n",
       "      <th>2</th>\n",
       "      <td>12</td>\n",
       "      <td>fortis</td>\n",
       "      <td>9.5</td>\n",
       "      <td>7.5</td>\n",
       "      <td>1975</td>\n",
       "    </tr>\n",
       "    <tr>\n",
       "      <th>3</th>\n",
       "      <td>15</td>\n",
       "      <td>fortis</td>\n",
       "      <td>9.5</td>\n",
       "      <td>8.0</td>\n",
       "      <td>1975</td>\n",
       "    </tr>\n",
       "    <tr>\n",
       "      <th>4</th>\n",
       "      <td>305</td>\n",
       "      <td>fortis</td>\n",
       "      <td>11.5</td>\n",
       "      <td>9.9</td>\n",
       "      <td>1975</td>\n",
       "    </tr>\n",
       "    <tr>\n",
       "      <th>...</th>\n",
       "      <td>...</td>\n",
       "      <td>...</td>\n",
       "      <td>...</td>\n",
       "      <td>...</td>\n",
       "      <td>...</td>\n",
       "    </tr>\n",
       "    <tr>\n",
       "      <th>432</th>\n",
       "      <td>21299</td>\n",
       "      <td>fortis</td>\n",
       "      <td>10.4</td>\n",
       "      <td>7.8</td>\n",
       "      <td>2012</td>\n",
       "    </tr>\n",
       "    <tr>\n",
       "      <th>433</th>\n",
       "      <td>21341</td>\n",
       "      <td>fortis</td>\n",
       "      <td>10.5</td>\n",
       "      <td>8.5</td>\n",
       "      <td>2012</td>\n",
       "    </tr>\n",
       "    <tr>\n",
       "      <th>434</th>\n",
       "      <td>21343</td>\n",
       "      <td>fortis</td>\n",
       "      <td>10.1</td>\n",
       "      <td>8.2</td>\n",
       "      <td>2012</td>\n",
       "    </tr>\n",
       "    <tr>\n",
       "      <th>435</th>\n",
       "      <td>21349</td>\n",
       "      <td>fortis</td>\n",
       "      <td>10.6</td>\n",
       "      <td>9.2</td>\n",
       "      <td>2012</td>\n",
       "    </tr>\n",
       "    <tr>\n",
       "      <th>436</th>\n",
       "      <td>22000</td>\n",
       "      <td>fortis</td>\n",
       "      <td>10.6</td>\n",
       "      <td>9.0</td>\n",
       "      <td>2012</td>\n",
       "    </tr>\n",
       "  </tbody>\n",
       "</table>\n",
       "<p>437 rows × 5 columns</p>\n",
       "</div>"
      ],
      "text/plain": [
       "      band species  beak_length  beak_depth  year\n",
       "0        2  fortis          9.4         8.0  1975\n",
       "1        9  fortis          9.2         8.3  1975\n",
       "2       12  fortis          9.5         7.5  1975\n",
       "3       15  fortis          9.5         8.0  1975\n",
       "4      305  fortis         11.5         9.9  1975\n",
       "..     ...     ...          ...         ...   ...\n",
       "432  21299  fortis         10.4         7.8  2012\n",
       "433  21341  fortis         10.5         8.5  2012\n",
       "434  21343  fortis         10.1         8.2  2012\n",
       "435  21349  fortis         10.6         9.2  2012\n",
       "436  22000  fortis         10.6         9.0  2012\n",
       "\n",
       "[437 rows x 5 columns]"
      ]
     },
     "execution_count": 16,
     "metadata": {},
     "output_type": "execute_result"
    }
   ],
   "source": [
    "# Filtremos los dataframes para la especie 'Fortis' y concatémoslo en un solo dataset\n",
    "\n",
    "df_1975_fortis = df_1975[df_1975['species']=='fortis']\n",
    "df_2012_fortis = df_2012[df_2012['species']=='fortis']\n",
    "\n",
    "df_fortis = pd.concat([df_1975_fortis, df_2012_fortis], ignore_index=True)\n",
    "\n",
    "df_fortis"
   ]
  },
  {
   "cell_type": "code",
   "execution_count": 17,
   "id": "826f43b3",
   "metadata": {
    "scrolled": false
   },
   "outputs": [
    {
     "data": {
      "text/html": [
       "<div>\n",
       "<style scoped>\n",
       "    .dataframe tbody tr th:only-of-type {\n",
       "        vertical-align: middle;\n",
       "    }\n",
       "\n",
       "    .dataframe tbody tr th {\n",
       "        vertical-align: top;\n",
       "    }\n",
       "\n",
       "    .dataframe thead th {\n",
       "        text-align: right;\n",
       "    }\n",
       "</style>\n",
       "<table border=\"1\" class=\"dataframe\">\n",
       "  <thead>\n",
       "    <tr style=\"text-align: right;\">\n",
       "      <th></th>\n",
       "      <th>beak_length</th>\n",
       "      <th>beak_depth</th>\n",
       "    </tr>\n",
       "  </thead>\n",
       "  <tbody>\n",
       "    <tr>\n",
       "      <th>count</th>\n",
       "      <td>316.000000</td>\n",
       "      <td>316.000000</td>\n",
       "    </tr>\n",
       "    <tr>\n",
       "      <th>mean</th>\n",
       "      <td>10.565190</td>\n",
       "      <td>9.171646</td>\n",
       "    </tr>\n",
       "    <tr>\n",
       "      <th>std</th>\n",
       "      <td>0.672303</td>\n",
       "      <td>0.737356</td>\n",
       "    </tr>\n",
       "    <tr>\n",
       "      <th>min</th>\n",
       "      <td>8.700000</td>\n",
       "      <td>7.500000</td>\n",
       "    </tr>\n",
       "    <tr>\n",
       "      <th>25%</th>\n",
       "      <td>10.100000</td>\n",
       "      <td>8.600000</td>\n",
       "    </tr>\n",
       "    <tr>\n",
       "      <th>50%</th>\n",
       "      <td>10.575000</td>\n",
       "      <td>9.200000</td>\n",
       "    </tr>\n",
       "    <tr>\n",
       "      <th>75%</th>\n",
       "      <td>11.000000</td>\n",
       "      <td>9.700000</td>\n",
       "    </tr>\n",
       "    <tr>\n",
       "      <th>max</th>\n",
       "      <td>12.200000</td>\n",
       "      <td>10.980000</td>\n",
       "    </tr>\n",
       "  </tbody>\n",
       "</table>\n",
       "</div>"
      ],
      "text/plain": [
       "       beak_length  beak_depth\n",
       "count   316.000000  316.000000\n",
       "mean     10.565190    9.171646\n",
       "std       0.672303    0.737356\n",
       "min       8.700000    7.500000\n",
       "25%      10.100000    8.600000\n",
       "50%      10.575000    9.200000\n",
       "75%      11.000000    9.700000\n",
       "max      12.200000   10.980000"
      ]
     },
     "execution_count": 17,
     "metadata": {},
     "output_type": "execute_result"
    }
   ],
   "source": [
    "df_1975_fortis[['beak_length','beak_depth']].describe()"
   ]
  },
  {
   "cell_type": "code",
   "execution_count": 18,
   "id": "21113e96",
   "metadata": {
    "scrolled": true
   },
   "outputs": [
    {
     "data": {
      "text/html": [
       "<div>\n",
       "<style scoped>\n",
       "    .dataframe tbody tr th:only-of-type {\n",
       "        vertical-align: middle;\n",
       "    }\n",
       "\n",
       "    .dataframe tbody tr th {\n",
       "        vertical-align: top;\n",
       "    }\n",
       "\n",
       "    .dataframe thead th {\n",
       "        text-align: right;\n",
       "    }\n",
       "</style>\n",
       "<table border=\"1\" class=\"dataframe\">\n",
       "  <thead>\n",
       "    <tr style=\"text-align: right;\">\n",
       "      <th></th>\n",
       "      <th>beak_length</th>\n",
       "      <th>beak_depth</th>\n",
       "    </tr>\n",
       "  </thead>\n",
       "  <tbody>\n",
       "    <tr>\n",
       "      <th>count</th>\n",
       "      <td>121.000000</td>\n",
       "      <td>121.000000</td>\n",
       "    </tr>\n",
       "    <tr>\n",
       "      <th>mean</th>\n",
       "      <td>10.517355</td>\n",
       "      <td>8.605372</td>\n",
       "    </tr>\n",
       "    <tr>\n",
       "      <th>std</th>\n",
       "      <td>0.807741</td>\n",
       "      <td>0.732570</td>\n",
       "    </tr>\n",
       "    <tr>\n",
       "      <th>min</th>\n",
       "      <td>9.000000</td>\n",
       "      <td>7.200000</td>\n",
       "    </tr>\n",
       "    <tr>\n",
       "      <th>25%</th>\n",
       "      <td>10.000000</td>\n",
       "      <td>8.100000</td>\n",
       "    </tr>\n",
       "    <tr>\n",
       "      <th>50%</th>\n",
       "      <td>10.400000</td>\n",
       "      <td>8.500000</td>\n",
       "    </tr>\n",
       "    <tr>\n",
       "      <th>75%</th>\n",
       "      <td>10.900000</td>\n",
       "      <td>9.000000</td>\n",
       "    </tr>\n",
       "    <tr>\n",
       "      <th>max</th>\n",
       "      <td>12.900000</td>\n",
       "      <td>11.100000</td>\n",
       "    </tr>\n",
       "  </tbody>\n",
       "</table>\n",
       "</div>"
      ],
      "text/plain": [
       "       beak_length  beak_depth\n",
       "count   121.000000  121.000000\n",
       "mean     10.517355    8.605372\n",
       "std       0.807741    0.732570\n",
       "min       9.000000    7.200000\n",
       "25%      10.000000    8.100000\n",
       "50%      10.400000    8.500000\n",
       "75%      10.900000    9.000000\n",
       "max      12.900000   11.100000"
      ]
     },
     "execution_count": 18,
     "metadata": {},
     "output_type": "execute_result"
    }
   ],
   "source": [
    "df_2012_fortis[['beak_length','beak_depth']].describe()"
   ]
  },
  {
   "cell_type": "markdown",
   "id": "97f0b533",
   "metadata": {},
   "source": [
    "Para mayor facilidad de comparación, procedemos a generar histogramas parecidos a los anteriores:"
   ]
  },
  {
   "cell_type": "code",
   "execution_count": 19,
   "id": "ad4163d2",
   "metadata": {
    "scrolled": false
   },
   "outputs": [
    {
     "data": {
      "image/png": "[encoded data removed]",
      "text/plain": [
       "<Figure size 1600x900 with 2 Axes>"
      ]
     },
     "metadata": {},
     "output_type": "display_data"
    }
   ],
   "source": [
    "df_fortis_plot = df_fortis.copy()\n",
    "df_fortis_plot = df_fortis_plot.drop(['band'], axis=1)\n",
    "\n",
    "df_scandens_plot = df_scandens.copy()\n",
    "df_scandens_plot = df_scandens_plot.drop(['band'], axis=1)\n",
    "\n",
    "fig2, (ax3,ax4) = plt.subplots(nrows=1,ncols=2)\n",
    "\n",
    "fig2.set_size_inches(16,9)\n",
    "fig2.suptitle('Distribucion de las medidas tomadas para G. fortis en 1975 y en 2012')\n",
    "\n",
    "sns.histplot(x = 'beak_length',\n",
    "             data = df_fortis_plot,\n",
    "             hue = 'year',\n",
    "             alpha = 0.8,\n",
    "             palette=sns.color_palette(\"tab10\",2),\n",
    "             ax = ax3)\n",
    "\n",
    "sns.histplot(x = 'beak_depth',\n",
    "             data = df_fortis_plot,\n",
    "             hue = 'year',\n",
    "             alpha = 0.8,\n",
    "             palette=sns.color_palette(\"tab10\",2),\n",
    "             ax = ax4)\n",
    "\n",
    "ax3.title.set_text('Distribucion de la longitud del pico, en mm')\n",
    "ax4.title.set_text('Distribucion de la profundidad del pico, en mm')\n",
    "\n",
    "ax3.set_xlabel('Longitud, mm')\n",
    "ax4.set_xlabel('Profundidad, mm')\n",
    "\n",
    "plt.tight_layout()\n",
    "plt.show()"
   ]
  },
  {
   "cell_type": "markdown",
   "id": "4bed1b44",
   "metadata": {},
   "source": [
    "A simple vista, en estos histogramas podemos apreciar más facilmente la diferencia del tamaño de las muestras tomadas en ambos años. Podemos apreciar que se tomaron más medidas en 1975 que en 2012.\n",
    "\n",
    "Además podemos apreciar que las distribuciones, a pesar de algunas diferencias, se comportan generalmente de manera parecida, con una distribución aproximandose a la normal. Podemos apreciar que para la **profundidad**, la distribución de las medidas parecer haberse recorrido un poco hacia la **izquierda** con el paso de los años. Por otro lado, la distribución de las **longitudes** parece haber permanecido en la **misma posición**."
   ]
  },
  {
   "cell_type": "markdown",
   "id": "783f784a",
   "metadata": {},
   "source": [
    "Al igual que con la otra, representemos todas las medidas de profundidad del pico en 1975 y 2012 en un gráfico de bee swarm."
   ]
  },
  {
   "cell_type": "code",
   "execution_count": 20,
   "id": "44ed5e61",
   "metadata": {
    "scrolled": false
   },
   "outputs": [
    {
     "data": {
      "image/png": "[encoded data removed]",
      "text/plain": [
       "<Figure size 1000x600 with 1 Axes>"
      ]
     },
     "metadata": {},
     "output_type": "display_data"
    }
   ],
   "source": [
    "fig = plt.figure(figsize=([10,6]))\n",
    "sns.set_style('darkgrid')\n",
    "\n",
    "g = sns.swarmplot(\n",
    "    x='year',\n",
    "    y='beak_depth',\n",
    "    hue='year',\n",
    "    palette='tab10',\n",
    "    data=df_fortis\n",
    ")\n",
    "\n",
    "plt.xlabel('year')\n",
    "plt.ylabel('beak depth (mm)')\n",
    "\n",
    "plt.show()"
   ]
  },
  {
   "cell_type": "markdown",
   "id": "b9c5a870",
   "metadata": {},
   "source": [
    "Veamos como se representan los cuartiles y la media de ambas medidas para esta especie con algunos boxplots."
   ]
  },
  {
   "cell_type": "code",
   "execution_count": 21,
   "id": "cc00c826",
   "metadata": {
    "scrolled": false
   },
   "outputs": [
    {
     "data": {
      "image/png": "[encoded data removed]",
      "text/plain": [
       "<Figure size 1600x900 with 2 Axes>"
      ]
     },
     "metadata": {},
     "output_type": "display_data"
    }
   ],
   "source": [
    "fig2_box, (ax3_box,ax4_box) = plt.subplots(nrows=1,ncols=2)\n",
    "\n",
    "fig2_box.set_size_inches(16,9)\n",
    "fig2_box.suptitle('Diagrama de cajas de las medidas tomadas para G. fortis en 1975 y en 2012')\n",
    "\n",
    "g = sns.boxplot(\n",
    "    x='year',\n",
    "    y='beak_length',\n",
    "    palette='tab10',\n",
    "    data=df_fortis,\n",
    "    ax = ax3_box\n",
    ")\n",
    "\n",
    "g1 = sns.boxplot(\n",
    "    x='year',\n",
    "    y='beak_depth',\n",
    "    palette='tab10',\n",
    "    data=df_fortis,\n",
    "    ax = ax4_box\n",
    ")\n",
    "\n",
    "ax3_box.title.set_text('Distribucion de la longitud del pico, en mm')\n",
    "ax4_box.title.set_text('Distribucion de la profundidad del pico, en mm')\n",
    "\n",
    "ax3_box.set_ylabel('Longitud, mm')\n",
    "ax3_box.set_xlabel('Año')\n",
    "\n",
    "ax4_box.set_ylabel('Profundidad, mm')\n",
    "ax4_box.set_xlabel('Año')\n",
    "\n",
    "plt.tight_layout()\n",
    "plt.show()"
   ]
  },
  {
   "cell_type": "markdown",
   "id": "ecf7df61",
   "metadata": {},
   "source": [
    "De nuevo, y en corcordancia con los histogramas anteriores, podemos ver una diferencia en la distribución de la profundidad de los picos, los cuales a simple vista *parecen* haber disminuido su profundidad. Por otro lado, las distribuciones de las longitudes parece no haber cambiado mucho con los años.\n",
    "\n",
    "Estas afirmaciones, así como las hechas para la especie *G. scandens* serán exploradas más a fondo en la siguiente sección."
   ]
  },
  {
   "cell_type": "markdown",
   "id": "5d1c64fb",
   "metadata": {},
   "source": [
    "## Estadística inferencial"
   ]
  },
  {
   "cell_type": "markdown",
   "id": "279f4577",
   "metadata": {},
   "source": [
    "### ¿Existe realmente una diferencia entre las aves de 1975 y las de 2012?"
   ]
  },
  {
   "cell_type": "markdown",
   "id": "71eae03a",
   "metadata": {},
   "source": [
    "Uno de los objetivos presentados en este proyecto fue el de determinar si en realidad había una diferencia entre las caracteristicas de los picos de los fringílidos. Para esto podemos realizar una prueba de hipótesis, para tratar de determinar si la media tanto de la longitud como de la profundad de los picos en estas especies es diferente entre los años.\n",
    "\n",
    "Sin embargo, como nuestro dataset incluye muestras de dos diferentes especies, es necesario separarlas de manera correspondiente."
   ]
  },
  {
   "cell_type": "code",
   "execution_count": 22,
   "id": "ce26bab5",
   "metadata": {
    "scrolled": true
   },
   "outputs": [
    {
     "name": "stdout",
     "output_type": "stream",
     "text": [
      "Tamaño de muestra G. scandens en 1975: 87\n",
      "Tamaño de muestra G. scandens en 2012: 127\n"
     ]
    }
   ],
   "source": [
    "# Separamos para la especie scandens\n",
    "df_scandens_1975 = df_1975[df_1975['species'] == 'scandens']\n",
    "df_scandens_2012 = df_2012[df_2012['species'] == 'scandens']\n",
    "\n",
    "print(f\"Tamaño de muestra G. scandens en 1975: {df_scandens_1975.shape[0]}\")\n",
    "print(f\"Tamaño de muestra G. scandens en 2012: {df_scandens_2012.shape[0]}\")"
   ]
  },
  {
   "cell_type": "code",
   "execution_count": 23,
   "id": "8a5503c2",
   "metadata": {
    "scrolled": true
   },
   "outputs": [
    {
     "name": "stdout",
     "output_type": "stream",
     "text": [
      "Tamaño de muestra G. fortis en 1975: 316\n",
      "Tamaño de muestra G. fortis en 2012: 121\n"
     ]
    }
   ],
   "source": [
    "df_fortis_1975 = df_1975[df_1975['species'] == 'fortis']\n",
    "df_fortis_2012 = df_2012[df_2012['species'] == 'fortis']\n",
    "\n",
    "print(f\"Tamaño de muestra G. fortis en 1975: {df_fortis_1975.shape[0]}\")\n",
    "print(f\"Tamaño de muestra G. fortis en 2012: {df_fortis_2012.shape[0]}\")"
   ]
  },
  {
   "cell_type": "markdown",
   "id": "0a4a13a4",
   "metadata": {},
   "source": [
    "Una vez separadas nuestras muestras, podemos tratar de observar si existe alguna diferencia entre el promedio de éstas."
   ]
  },
  {
   "cell_type": "code",
   "execution_count": 24,
   "id": "bd9447d0",
   "metadata": {
    "scrolled": true
   },
   "outputs": [
    {
     "name": "stdout",
     "output_type": "stream",
     "text": [
      "Longitud promedio del pico para G. fortis en 1975: 10.5652 mm\n",
      "Longitud promedio del pico para G. fortis en 2012: 10.5174 mm\n"
     ]
    }
   ],
   "source": [
    "print(f\"Longitud promedio del pico para G. fortis en 1975: {df_fortis_1975['beak_length'].mean():.4f} mm\")\n",
    "print(f\"Longitud promedio del pico para G. fortis en 2012: {df_fortis_2012['beak_length'].mean():.4f} mm\")"
   ]
  },
  {
   "cell_type": "code",
   "execution_count": 25,
   "id": "475f585e",
   "metadata": {
    "scrolled": false
   },
   "outputs": [
    {
     "name": "stdout",
     "output_type": "stream",
     "text": [
      "Profundidad promedio del pico para G. fortis en 1975: 9.1716 mm\n",
      "Profundidad promedio del pico para G. fortis en 2025: 8.6054 mm\n"
     ]
    }
   ],
   "source": [
    "print(f\"Profundidad promedio del pico para G. fortis en 1975: {df_fortis_1975['beak_depth'].mean():.4f} mm\")\n",
    "print(f\"Profundidad promedio del pico para G. fortis en 2025: {df_fortis_2012['beak_depth'].mean():.4f} mm\")"
   ]
  },
  {
   "cell_type": "markdown",
   "id": "773a361d",
   "metadata": {},
   "source": [
    "Podemos comparar más facilmente las medias de las muestras si las reorganizamos en una tabla:\n",
    "\n",
    "|Año|Longitud|Profundidad|\n",
    "|---|--------|-----------|\n",
    "|**1975**|10.5652|9.1716|\n",
    "|**2012**|10.5174|8.6054|"
   ]
  },
  {
   "cell_type": "markdown",
   "id": "0a22631d",
   "metadata": {},
   "source": [
    "A simple vista, puede parecer que tanto la longitud como la profundidad del pico de la especie *G. fortis* parecen haberse encogido, pero para determinar si hay una verdadera diferencia entre las aves en ambos años, podemos plantearnos la siguiente prueba de hipótesis.\n",
    "\n",
    "$$ \n",
    "\\begin{matrix}\n",
    "H_0: & \\mu_0 - \\mu_1 = 0\\\\\n",
    "H_1: & \\mu_0 - \\mu_1 > 0\n",
    "\\end{matrix}\n",
    "$$\n",
    "\n",
    "Donde $\\mu_0$ y $\\mu_1$ se refieren a la característica promedio de la población de la especie en 1975 y en 2012, respectivamente. Aquí, la hipótesis nula indica que no existe una diferencia entre la característica promedio, es decir que $\\mu_0 = \\mu_1$, y la hipótesis alternativa propone que la característica del pico se ha encogido con el tiempo, o bien que $\\mu_0 > \\mu_1$, todo esto para un nivel de confiaza $\\alpha = 0.05$."
   ]
  },
  {
   "cell_type": "markdown",
   "id": "49b6155b",
   "metadata": {},
   "source": [
    "En los casos donde comparamos dos medias poblacionales, el estadístico de prueba está dado por:\n",
    "\n",
    "$$\n",
    "z = \\frac{\\bar{X} - \\bar{Y} - \\Delta_0}{\\sqrt{\\frac{\\sigma_{0}^{2}}{m} + \\frac{\\sigma_{1}^{2}}{n} }}\n",
    "$$\n",
    "\n",
    "En nuestro caso, los valores tanto de $\\sigma_{0}^{2}$ como $\\sigma_{1}^{2}$, los cuales representan las varianzas de ambas poblaciones, nos son desconocidos. Sin embargo, para tamaños de muestra suficientemente grandes, estos valores se pueden sustituir por las respectivas varianzas muestrales $S_{0}^{2}$ y $S_{1}^{2}$.\n",
    "\n",
    "Por otro lado, $\\Delta_0$ hace referencia a la diferencia de medias buscada, la cual en nuestro caso es igual a 0. Con estas nuevas consideraciones, podemos reescribir la expresión anterior como:\n",
    "\n",
    "$$\n",
    "z = \\frac{\\bar{X} - \\bar{Y}}{\\sqrt{\\frac{S_{0}^{2}}{m} + \\frac{S_{1}^{2}}{n} }}\n",
    "$$\n",
    "\n",
    "Asi, podemos comenzar a definir una funcion para obtener el valor de este estadistico:"
   ]
  },
  {
   "cell_type": "code",
   "execution_count": 26,
   "id": "23d0dd38",
   "metadata": {
    "scrolled": true
   },
   "outputs": [],
   "source": [
    "def calcular_z(series1,series2):\n",
    "    \"\"\"\n",
    "    Obtener el valor de z a partir de dos series de pandas\n",
    "    \"\"\"\n",
    "    diff_prom = series1.mean() - series2.mean()\n",
    "    \n",
    "    valor1_raiz = (series1.var() / series1.size)\n",
    "    valor2_raiz = (series2.var() / series2.size)\n",
    "    \n",
    "    z = diff_prom / np.sqrt(valor1_raiz + valor2_raiz)\n",
    "    \n",
    "    return z"
   ]
  },
  {
   "cell_type": "markdown",
   "id": "2ffba87a",
   "metadata": {},
   "source": [
    "Con esto podemos obtener facilmente el valor del estadístico de prueba tanto para la longitud como la profundidad del pico para la especie *G. fortis*:"
   ]
  },
  {
   "cell_type": "code",
   "execution_count": 27,
   "id": "5458c94b",
   "metadata": {
    "scrolled": false
   },
   "outputs": [
    {
     "name": "stdout",
     "output_type": "stream",
     "text": [
      "Z para la longitud: 0.579\n",
      "Z para la profundidad: 7.217\n"
     ]
    }
   ],
   "source": [
    "z_long_fortis = calcular_z(df_fortis_1975['beak_length'],df_fortis_2012['beak_length'])\n",
    "z_prof_fortis = calcular_z(df_fortis_1975['beak_depth'],df_fortis_2012['beak_depth'])\n",
    "\n",
    "print(f\"Z para la longitud: {z_long_fortis:.3f}\")\n",
    "print(f\"Z para la profundidad: {z_prof_fortis:.3f}\")"
   ]
  },
  {
   "cell_type": "markdown",
   "id": "82a01359",
   "metadata": {},
   "source": [
    "Una vez calculados los valores del estadístico de prueba, debemos obtener el valor crítico de z para saber si rechazaremos la hipótesis nula. Para el caso donde $H_1: \\mu_0 - \\mu_1 > 0$, el criterio de rechazo de la hipótesis nula para un valor determinado de $\\alpha$ es cuando $z \\geq z_{\\alpha}$. La libreria ```scipy``` nos ofrece una función que nos ayuda a calcular este valor:"
   ]
  },
  {
   "cell_type": "code",
   "execution_count": 28,
   "id": "6cc81b19",
   "metadata": {
    "scrolled": true
   },
   "outputs": [
    {
     "name": "stdout",
     "output_type": "stream",
     "text": [
      "Z critico para 0.05: 1.645\n"
     ]
    }
   ],
   "source": [
    "z_critico = stats.norm.ppf(0.95)\n",
    "print(f\"Z critico para 0.05: {z_critico:.3f}\")"
   ]
  },
  {
   "cell_type": "markdown",
   "id": "4d265ecf",
   "metadata": {},
   "source": [
    "Comparando este valor con los estadísticos de prueba para la longitud y para la profundidad de los picos, podemos hacer las siguientes afirmaciones para la especie *G. fortis*:\n",
    "\n",
    "* Con los datos recabados, **existe eviencia para rechazar la hipótesis nula para el caso de la profundidad del pico**, con un nivel de confianza del 95%.\n",
    "\n",
    "* Con los datos recabados, **no existe eviencia para rechazar la hipótesis nula para el caso de la longitud del pico**, con un nivel de confianza del 95%.\n",
    "\n",
    "Estas afirmaciones nos dan a entender que existe evidencia de una disminución en los tamaños de profundidad del pico para las especies *G. fortis* que habitaban en 1975, y las que habitaban en el año 2012, mas no la existe para el caso de su longitud. Esto puede considerarse como evidencia de la evolución de estas especies a través del tiempo."
   ]
  },
  {
   "cell_type": "markdown",
   "id": "fffdbec2",
   "metadata": {},
   "source": [
    "Así, podemos realizar el mismo procedimiento para el caso de la segunda especie, *G. scandens*, y sus respectivas longitudes y profundidades del pico:"
   ]
  },
  {
   "cell_type": "code",
   "execution_count": 29,
   "id": "9a335477",
   "metadata": {
    "scrolled": true
   },
   "outputs": [
    {
     "name": "stdout",
     "output_type": "stream",
     "text": [
      "Longitud promedio del pico para G. scandens en 1975: 14.1209 mm\n",
      "Longitud promedio del pico para G. scandens en 2012: 13.4210 mm\n"
     ]
    }
   ],
   "source": [
    "print(f\"Longitud promedio del pico para G. scandens en 1975: {df_scandens_1975['beak_length'].mean():.4f} mm\")\n",
    "print(f\"Longitud promedio del pico para G. scandens en 2012: {df_scandens_2012['beak_length'].mean():.4f} mm\")"
   ]
  },
  {
   "cell_type": "code",
   "execution_count": 30,
   "id": "9d2dcfa0",
   "metadata": {
    "scrolled": true
   },
   "outputs": [
    {
     "name": "stdout",
     "output_type": "stream",
     "text": [
      "Profundidad promedio del pico para G. scandens en 1975: 8.9600 mm\n",
      "Profundidad promedio del pico para G. scandens en 2025: 9.1862 mm\n"
     ]
    }
   ],
   "source": [
    "print(f\"Profundidad promedio del pico para G. scandens en 1975: {df_scandens_1975['beak_depth'].mean():.4f} mm\")\n",
    "print(f\"Profundidad promedio del pico para G. scandens en 2025: {df_scandens_2012['beak_depth'].mean():.4f} mm\")"
   ]
  },
  {
   "cell_type": "markdown",
   "id": "c043c543",
   "metadata": {},
   "source": [
    "Como hicimos anteriormente, podemos comparar más facilmente estos valores si los reorganizamos en una tabla:\n",
    "\n",
    "|Año|Longitud|Profundidad|\n",
    "|---|--------|-----------|\n",
    "|**1975**|14.1209|8.9600|\n",
    "|**2012**|13.4210|9.1862|\n",
    "\n",
    "Después podemos proseguir a obtener nuestros estadísticos de prueba:"
   ]
  },
  {
   "cell_type": "code",
   "execution_count": 31,
   "id": "bc304501",
   "metadata": {
    "scrolled": true
   },
   "outputs": [
    {
     "name": "stdout",
     "output_type": "stream",
     "text": [
      "Z para la longitud: 6.787\n",
      "Z para la profundidad: -2.663\n"
     ]
    }
   ],
   "source": [
    "z_long_scandens = calcular_z(df_scandens_1975['beak_length'],df_scandens_2012['beak_length'])\n",
    "z_prof_scandens = calcular_z(df_scandens_1975['beak_depth'],df_scandens_2012['beak_depth'])\n",
    "\n",
    "print(f\"Z para la longitud: {z_long_scandens:.3f}\")\n",
    "print(f\"Z para la profundidad: {z_prof_scandens:.3f}\")"
   ]
  },
  {
   "cell_type": "markdown",
   "id": "c3094df5",
   "metadata": {},
   "source": [
    "Recordemos que el valor crítico para esta prueba es de 1.645, por lo que el criterio de rechazo $ z \\geq z_{\\alpha}$ se cumple para la longitud, mas no para la profundidad. Esto nos indica que, para *G. scandens*:\n",
    "\n",
    "* Con los datos recabados, **existe eviencia para rechazar la hipótesis nula para el caso de la longitud del pico**, con un nivel de confianza del 95%.\n",
    "\n",
    "* Con los datos recabados, **no existe eviencia para rechazar la hipótesis nula para el caso de la profundidad del pico**, con un nivel de confianza del 95%.\n",
    "\n",
    "Con estas afirmaciones, podemos decir que existe evidencia de que la longitud del pico de la especie *G. scandens* se ha ido encogiendo a lo largo de los años, mas no es el caso de la profundidad del mismo."
   ]
  },
  {
   "cell_type": "markdown",
   "id": "296e8716",
   "metadata": {},
   "source": [
    "Ahora bien, tomando en cuenta el caso donde la hipótesis nula no fue rechazada, tenemos que:\n",
    "\n",
    "* Para *G. scandens*, no hay evidencia de que la **profundidad** del pico haya disminuido.\n",
    "\n",
    "Sin embargo, si volvemos a las medias muestrales para *G. scandens*, vemos que la media de la profundidad *aumentó* entre 1975 y 2012. Con esto, podríamos proponer una nueva hipótesis alternativa:\n",
    "\n",
    "$$ \n",
    "\\begin{matrix}\n",
    "H_0: & \\mu_0 - \\mu_1 = 0\\\\\n",
    "H_1: & \\mu_0 - \\mu_1 < 0\n",
    "\\end{matrix}\n",
    "$$\n",
    "\n",
    "Esta vez, la hipótesis alternativa propone que la profundidad del pico *aumentó* en este periodo, es decir que $\\mu_0 < \\mu_1$.\n",
    "\n",
    "Como ya tenemos los valores correspondientes para $z$ y $z_{\\alpha}$, podemos realizar directamente la comparación de estos. Para el criterio de rechazo es $ z \\leq -z_{\\alpha} $. Sustituyendo los valores obtenidos, tenemos que la expresión se cumple para nuestros valores:\n",
    "\n",
    "$$ -2.663 \\leq -1.645 $$\n",
    "\n",
    "Con esto, podemos afirmar que para *G. scandens*, existe evidencia para rechazar la hipótesis nula, con lo que podemos afirmar que existe evidencia de que las profundidades de los picos de esta especie *aumentó* entre 1975 y 2012."
   ]
  },
  {
   "cell_type": "markdown",
   "id": "b835a796",
   "metadata": {},
   "source": [
    "## Conclusiones\n",
    "\n",
    "Para concluir este trabajo, podemos afirmar, tomando en cuenta la evidencia presente, que las características de los picos de estás aves, con una excepción **sí** cambiaron entre 1975 y 2012. Para ser mas especificos, podemos ordenar las afirmaciones hechas en este trabajo en una tabla:\n",
    "\n",
    "|Especie | Longitud del pico | Profundidad del pico|\n",
    "|--------|----------|------------|\n",
    "|*G. fortis*|No cambió|Disminuyó|\n",
    "|*G. scandens*|Disminiuyó|Aumentó|\n",
    "\n",
    "Si volvemos un poco hacia la sección de estadística descriptiva, podemos ver que estas afirmaciones confirman las sospechas que surgieron durante el análisis exploratorio de los datos, donde vimos que las distribuciones de las medidas se recorrían con el paso de los años."
   ]
  }
 ],
 "metadata": {
  "kernelspec": {
   "display_name": "Python 3 (ipykernel)",
   "language": "python",
   "name": "python3"
  },
  "language_info": {
   "codemirror_mode": {
    "name": "ipython",
    "version": 3
   },
   "file_extension": ".py",
   "mimetype": "text/x-python",
   "name": "python",
   "nbconvert_exporter": "python",
   "pygments_lexer": "ipython3",
   "version": "3.10.9"
  }
 },
 "nbformat": 4,
 "nbformat_minor": 5
}
