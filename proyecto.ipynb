{
 "cells": [
  {
   "cell_type": "markdown",
   "id": "4e83abe5",
   "metadata": {},
   "source": [
    "# Proyecto"
   ]
  },
  {
   "cell_type": "markdown",
   "id": "dec85da9",
   "metadata": {},
   "source": [
    "**Objetivos**:\n",
    "\n",
    "* Realizar un análisis exploratorio de datos (EDA) con la finalidad de mejor la distribución de los datos utilizados (en este caso, las caracteristicas de los picos de los fringílidos a lo largo de los años y de la información hereditaria), como estan clasificados, su distribución, media, quartiles, etc.\n",
    "\n",
    "* Determinar mediante una prueba de hipótesis si realmente hubo un cambio entre las caracteristicas del pico de estos animales a lo largo de los años.\n",
    "\n",
    "* Adicional al punto anterior, tratar de determinar si existe una relación entre el las características físicas de los padres y aquellas de las crías."
   ]
  },
  {
   "cell_type": "code",
   "execution_count": 1,
   "id": "57a10ccd",
   "metadata": {},
   "outputs": [],
   "source": [
    "# Librerias utiles\n",
    "import pandas as pd\n",
    "import numpy as np\n",
    "import matplotlib.pyplot as plt\n",
    "import seaborn as sns\n",
    "import scipy.stats as stats"
   ]
  },
  {
   "cell_type": "code",
   "execution_count": 2,
   "id": "32214dbc",
   "metadata": {},
   "outputs": [],
   "source": [
    "df_1975 = pd.read_csv('./data/finch_beaks_1975.csv')\n",
    "df_2012 = pd.read_csv('./data/finch_beaks_2012.csv')\n",
    "\n",
    "df_fortis = pd.read_csv('./data/fortis_beak_depth_heredity.csv')\n",
    "df_scandens = pd.read_csv('./data/scandens_beak_depth_heredity.csv')"
   ]
  },
  {
   "cell_type": "markdown",
   "id": "33ce5e51",
   "metadata": {},
   "source": [
    "## PARTE JOSE"
   ]
  },
  {
   "cell_type": "code",
   "execution_count": null,
   "id": "c45dcc64",
   "metadata": {},
   "outputs": [],
   "source": []
  },
  {
   "cell_type": "markdown",
   "id": "f932b6b1",
   "metadata": {},
   "source": [
    "## PARTE JESUS"
   ]
  },
  {
   "cell_type": "code",
   "execution_count": null,
   "id": "6b65ab0a",
   "metadata": {},
   "outputs": [],
   "source": []
  }
 ],
 "metadata": {
  "kernelspec": {
   "display_name": "Python 3 (ipykernel)",
   "language": "python",
   "name": "python3"
  },
  "language_info": {
   "codemirror_mode": {
    "name": "ipython",
    "version": 3
   },
   "file_extension": ".py",
   "mimetype": "text/x-python",
   "name": "python",
   "nbconvert_exporter": "python",
   "pygments_lexer": "ipython3",
   "version": "3.10.9"
  }
 },
 "nbformat": 4,
 "nbformat_minor": 5
}
