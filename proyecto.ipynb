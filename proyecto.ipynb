{
 "cells": [
  {
   "cell_type": "markdown",
   "id": "0fdafda3",
   "metadata": {},
   "source": [
    "# Proyecto"
   ]
  },
  {
   "cell_type": "markdown",
   "id": "f9abe9dc",
   "metadata": {},
   "source": [
    "**Objetivos**:\n",
    "\n",
    "* Realizar un análisis exploratorio de datos (EDA) con la finalidad de mejor la distribución de los datos utilizados (en este caso, las caracteristicas de los picos de los fringílidos a lo largo de los años y de la información hereditaria), como estan clasificados, su distribución, media, quartiles, etc.\n",
    "\n",
    "* Determinar mediante una prueba de hipótesis si realmente hubo un cambio entre las caracteristicas del pico de estos animales a lo largo de los años.\n",
    "\n",
    "* Adicional al punto anterior, tratar de determinar si existe una relación entre el las características físicas de los padres y aquellas de las crías."
   ]
  },
  {
   "cell_type": "code",
   "execution_count": 1,
   "id": "f3a60fba",
   "metadata": {},
   "outputs": [],
   "source": [
    "# Librerias utiles\n",
    "import pandas as pd\n",
    "import numpy as np\n",
    "import matplotlib.pyplot as plt\n",
    "import seaborn as sns\n",
    "import scipy.stats as stats"
   ]
  },
  {
   "attachments": {},
   "cell_type": "markdown",
   "id": "0298b243",
   "metadata": {},
   "source": [
    "## Sobre el conjunto de Datos\n",
    "\n",
    "Durante los últimos más de 40 años (de 1973 a 2013), Peter y Rosemary Grant visitaron la isla Daphne Major de Galápagos y recopilaron datos sobre los pinzones de Darwin para estudiar la teoría de la evolución de Darwin.\n",
    "\n",
    "Los Grant pasan años observando, marcando y midiendo los pinzones de Darwin y su entorno. Durante ese tiempo documentaron cambios ambientales y cómo estos cambios favorecieron a ciertos individuos dentro de la población, ilustrando la selección natural en acción.\n",
    "\n",
    "El conjunto de datos se centra en la dimensión del pico de los pinzones. Para los pinzones, el tamaño y la forma de sus picos son rasgos que varían para adaptarse a los cambios ambientales. La relación entre el tamaño del pico y los eventos ecológicos que se ha popularizado un poco como un ejemplo de \"evolución que ocurre ante nuestros ojos\".\n",
    "\n"
   ]
  },
  {
   "cell_type": "code",
   "execution_count": 3,
   "id": "73a5c40b",
   "metadata": {},
   "outputs": [],
   "source": [
    "df_1975 = pd.read_csv('./data/finch_beaks_1975.csv')\n",
    "df_2012 = pd.read_csv('./data/finch_beaks_2012.csv')\n",
    "\n",
    "df_fortis = pd.read_csv('./data/fortis_beak_depth_heredity.csv')\n",
    "df_scandens = pd.read_csv('./data/scandens_beak_depth_heredity.csv')"
   ]
  },
  {
   "attachments": {},
   "cell_type": "markdown",
   "id": "1e0100fb",
   "metadata": {},
   "source": [
    "Comenzamos por hacer un procesamiento de los datos y hacer cálculos de estadística descriptiva junto con un Análisis Exploratorio de Datos.\n",
    "\n",
    "Tenemos en total 4 conjuntos de Datos\n",
    "- Finch Beak 1975: La medida del pico de los pinzones registrada en 1975.\n",
    "- Finch Beak 2012: La medida del pico de los pinzones registrada en 2012.\n",
    "- Fortis Beak Depth Heredity: Información hereditaria del pico de G. fortis.\n",
    "- Scandens Beak Depth Heredity: Información hereditaria del pico de G. scandens."
   ]
  },
  {
   "cell_type": "code",
   "execution_count": 3,
   "id": "15a1f325",
   "metadata": {
    "scrolled": true
   },
   "outputs": [
    {
     "name": "stdout",
     "output_type": "stream",
     "text": [
      "<class 'pandas.core.frame.DataFrame'>\n",
      "RangeIndex: 403 entries, 0 to 402\n",
      "Data columns (total 4 columns):\n",
      " #   Column           Non-Null Count  Dtype  \n",
      "---  ------           --------------  -----  \n",
      " 0   band             403 non-null    int64  \n",
      " 1   species          403 non-null    object \n",
      " 2   Beak length, mm  403 non-null    float64\n",
      " 3   Beak depth, mm   403 non-null    float64\n",
      "dtypes: float64(2), int64(1), object(1)\n",
      "memory usage: 12.7+ KB\n"
     ]
    }
   ],
   "source": [
    "df_1975.info() # No hay valores nulos"
   ]
  },
  {
   "cell_type": "code",
   "execution_count": 4,
   "id": "680b234c",
   "metadata": {},
   "outputs": [
    {
     "name": "stdout",
     "output_type": "stream",
     "text": [
      "<class 'pandas.core.frame.DataFrame'>\n",
      "RangeIndex: 248 entries, 0 to 247\n",
      "Data columns (total 4 columns):\n",
      " #   Column   Non-Null Count  Dtype  \n",
      "---  ------   --------------  -----  \n",
      " 0   band     248 non-null    int64  \n",
      " 1   species  248 non-null    object \n",
      " 2   blength  248 non-null    float64\n",
      " 3   bdepth   248 non-null    float64\n",
      "dtypes: float64(2), int64(1), object(1)\n",
      "memory usage: 7.9+ KB\n"
     ]
    }
   ],
   "source": [
    "df_2012.info() # Tampoco hay valores nulos"
   ]
  },
  {
   "cell_type": "code",
   "execution_count": 5,
   "id": "a93e6e71",
   "metadata": {
    "scrolled": true
   },
   "outputs": [
    {
     "name": "stdout",
     "output_type": "stream",
     "text": [
      "<class 'pandas.core.frame.DataFrame'>\n",
      "RangeIndex: 413 entries, 0 to 412\n",
      "Data columns (total 3 columns):\n",
      " #   Column      Non-Null Count  Dtype  \n",
      "---  ------      --------------  -----  \n",
      " 0   Mid-offspr  413 non-null    float64\n",
      " 1   Male BD     413 non-null    float64\n",
      " 2   Female BD   413 non-null    float64\n",
      "dtypes: float64(3)\n",
      "memory usage: 9.8 KB\n"
     ]
    }
   ],
   "source": [
    "df_fortis.info()"
   ]
  },
  {
   "cell_type": "code",
   "execution_count": 6,
   "id": "719a99c3",
   "metadata": {},
   "outputs": [
    {
     "name": "stdout",
     "output_type": "stream",
     "text": [
      "<class 'pandas.core.frame.DataFrame'>\n",
      "RangeIndex: 130 entries, 0 to 129\n",
      "Data columns (total 2 columns):\n",
      " #   Column         Non-Null Count  Dtype  \n",
      "---  ------         --------------  -----  \n",
      " 0   mid_parent     130 non-null    float64\n",
      " 1   mid_offspring  130 non-null    float64\n",
      "dtypes: float64(2)\n",
      "memory usage: 2.2 KB\n"
     ]
    }
   ],
   "source": [
    "df_scandens.info() # Tampoco"
   ]
  },
  {
   "cell_type": "markdown",
   "id": "d6124e28",
   "metadata": {},
   "source": [
    "## PARTE JOSE"
   ]
  },
  {
   "attachments": {},
   "cell_type": "markdown",
   "id": "f64f627e",
   "metadata": {},
   "source": [
    "Tras ver la información de los datos, vemos que no existen datos faltantes. Además que la mayoría de las variables son numéricas, exceptuando por las especies.\n",
    "\n",
    "Si observamos los valores de la columna species..."
   ]
  },
  {
   "cell_type": "code",
   "execution_count": 4,
   "id": "3c347d5b",
   "metadata": {},
   "outputs": [
    {
     "name": "stdout",
     "output_type": "stream",
     "text": [
      "['fortis' 'scandens']\n",
      "['fortis' 'scandens']\n"
     ]
    }
   ],
   "source": [
    "# Vemos que los valores de la columna species son fortis y scandens en ambos dataframes\n",
    "print(df_1975['species'].unique()) \n",
    "print(df_2012['species'].unique())"
   ]
  },
  {
   "attachments": {},
   "cell_type": "markdown",
   "id": "c284ffb3",
   "metadata": {},
   "source": [
    "\n",
    "Otra cosa que hay que observar es que el nombre de las columnas no son iguales (tanto en el dataframe de 1975 como en el de 2012). Renombraremos las columnas para mantener la consistencia entre los dos dataframes\n"
   ]
  },
  {
   "cell_type": "code",
   "execution_count": 5,
   "id": "62706b97",
   "metadata": {},
   "outputs": [],
   "source": [
    "# Renombrando las columnas para mantener consistencia entre los nombres\n",
    "\n",
    "df_1975.rename(\n",
    "    columns={'Beak length, mm': 'beak_length', 'Beak depth, mm': 'beak_depth'}, \n",
    "    inplace=True\n",
    ")\n",
    "\n",
    "df_2012.rename(\n",
    "    columns={'blength': 'beak_length', 'bdepth': 'beak_depth'},\n",
    "    inplace=True\n",
    ")"
   ]
  },
  {
   "cell_type": "markdown",
   "id": "5d1c64fb",
   "metadata": {},
   "source": [
    "## PARTE JESUS"
   ]
  },
  {
   "cell_type": "markdown",
   "id": "295e4f2e",
   "metadata": {},
   "source": [
    "## ¿Existe realmente una diferencia entre las aves de 1975 y las de 2012?"
   ]
  },
  {
   "cell_type": "markdown",
   "id": "2159ce35",
   "metadata": {},
   "source": [
    "Uno de los objetivos presentados en este proyecto fue el de determinar si en realidad había una diferencia entre las caracteristicas de los picos de los fringílidos. Para esto podemos realizar una prueba de hipótesis, para tratar de determinar si la media tanto de la longitud como de la profundad de los picos en estas especies es diferente entre los años.\n",
    "\n",
    "Sin embargo, como nuestro dataset incluye muestras de dos diferentes especies, es necesario separarlas de manera correspondiente."
   ]
  },
  {
   "cell_type": "code",
   "execution_count": 7,
   "id": "539f052d",
   "metadata": {},
   "outputs": [
    {
     "name": "stdout",
     "output_type": "stream",
     "text": [
      "Tamaño de muestra G. scandens en 1975: 87\n",
      "Tamaño de muestra G. scandens en 2012: 127\n"
     ]
    }
   ],
   "source": [
    "# Separamos para la especie scandens\n",
    "df_scandens_1975 = df_1975[df_1975['species'] == 'scandens']\n",
    "df_scandens_2012 = df_2012[df_2012['species'] == 'scandens']\n",
    "\n",
    "print(f\"Tamaño de muestra G. scandens en 1975: {df_scandens_1975.shape[0]}\")\n",
    "print(f\"Tamaño de muestra G. scandens en 2012: {df_scandens_2012.shape[0]}\")"
   ]
  },
  {
   "cell_type": "code",
   "execution_count": 8,
   "id": "71472d1a",
   "metadata": {},
   "outputs": [
    {
     "name": "stdout",
     "output_type": "stream",
     "text": [
      "Tamaño de muestra G. fortis en 1975: 316\n",
      "Tamaño de muestra G. fortis en 2012: 121\n"
     ]
    }
   ],
   "source": [
    "df_fortis_1975 = df_1975[df_1975['species'] == 'fortis']\n",
    "df_fortis_2012 = df_2012[df_2012['species'] == 'fortis']\n",
    "\n",
    "print(f\"Tamaño de muestra G. fortis en 1975: {df_fortis_1975.shape[0]}\")\n",
    "print(f\"Tamaño de muestra G. fortis en 2012: {df_fortis_2012.shape[0]}\")"
   ]
  },
  {
   "cell_type": "markdown",
   "id": "6035249c",
   "metadata": {},
   "source": [
    "Una vez separadas nuestras muestras, podemos tratar de observar si existe alguna diferencia entre el promedio de éstas."
   ]
  },
  {
   "cell_type": "code",
   "execution_count": 9,
   "id": "bd9447d0",
   "metadata": {},
   "outputs": [
    {
     "name": "stdout",
     "output_type": "stream",
     "text": [
      "Longitud promedio del pico para G. fortis en 1975: 10.5652 mm\n",
      "Longitud promedio del pico para G. fortis en 2012: 10.5174 mm\n"
     ]
    }
   ],
   "source": [
    "print(f\"Longitud promedio del pico para G. fortis en 1975: {df_fortis_1975['Beak length, mm'].mean():.4f} mm\")\n",
    "print(f\"Longitud promedio del pico para G. fortis en 2012: {df_fortis_2012['blength'].mean():.4f} mm\")"
   ]
  },
  {
   "cell_type": "code",
   "execution_count": 10,
   "id": "adb8a5ea",
   "metadata": {},
   "outputs": [
    {
     "name": "stdout",
     "output_type": "stream",
     "text": [
      "Profundidad promedio del pico para G. fortis en 1975: 9.1716 mm\n",
      "Profundidad promedio del pico para G. fortis en 2025: 8.6054 mm\n"
     ]
    }
   ],
   "source": [
    "print(f\"Profundidad promedio del pico para G. fortis en 1975: {df_fortis_1975['Beak depth, mm'].mean():.4f} mm\")\n",
    "print(f\"Profundidad promedio del pico para G. fortis en 2025: {df_fortis_2012['bdepth'].mean():.4f} mm\")"
   ]
  },
  {
   "cell_type": "markdown",
   "id": "9676397f",
   "metadata": {},
   "source": [
    "A simple vista, puede parecer que tanto la longitud como la profundidad del pico de la especie *G. fortis* parecen haberse encogido, pero para determinar si hay una verdadera diferencia entre las aves en ambos años, podemos plantearnos la siguiente prueba de hipótesis.\n",
    "\n",
    "$$ \n",
    "\\begin{matrix}\n",
    "H_0: & \\mu_0 - \\mu_1 = 0\\\\\n",
    "H_1: & \\mu_0 - \\mu_1 > 0\n",
    "\\end{matrix}\n",
    "$$\n",
    "\n",
    "Donde $\\mu_0$ y $\\mu_1$ se refieren a la característica promedio de la especie en 1975 y en 2012, respectivamente. Aquí, la hipótesis nula indica que no existe una diferencia entre la característica promedio, es decir que $\\mu_0 = \\mu_1$, y la hipótesis alternativa propone que la característica del pico se ha encogido con el tiempo, o bien que $\\mu_0 > \\mu_1$, todo esto para un nivel de confiaza $\\alpha = 0.05$."
   ]
  },
  {
   "cell_type": "markdown",
   "id": "8d888eaf",
   "metadata": {},
   "source": [
    "En los casos donde comparamos dos medias poblacionales, el estadístico de prueba está dado por:\n",
    "\n",
    "$$\n",
    "z = \\frac{\\bar{X} - \\bar{Y} - \\Delta_0}{\\sqrt{\\frac{\\sigma_{0}^{2}}{m} + \\frac{\\sigma_{1}^{2}}{n} }}\n",
    "$$\n",
    "\n",
    "Donde $\\Delta_0$ hace referencia a la diferencia de medias buscada, la cual en nuestro caso es igual a 0, lo que reduce la expresión a:\n",
    "\n",
    "$$\n",
    "z = \\frac{\\bar{X} - \\bar{Y}}{\\sqrt{\\frac{\\sigma_{0}^{2}}{m} + \\frac{\\sigma_{1}^{2}}{n} }}\n",
    "$$\n",
    "\n",
    "Podemos comenzar a definir una funcion para obtener el valor de este estadistico:"
   ]
  },
  {
   "cell_type": "code",
   "execution_count": 26,
   "id": "7760a639",
   "metadata": {},
   "outputs": [],
   "source": [
    "def calcular_z(series1,series2):\n",
    "    \"\"\"\n",
    "    Obtener el valor de z a partir de dos series de pandas\n",
    "    \"\"\"\n",
    "    diff_prom = series1.mean() - series2.mean()\n",
    "    \n",
    "    valor1_raiz = (series1.var() / series1.size)\n",
    "    valor2_raiz = (series2.var() / series2.size)\n",
    "    \n",
    "    z = diff_prom / np.sqrt(valor1_raiz + valor2_raiz)\n",
    "    \n",
    "    return z"
   ]
  },
  {
   "cell_type": "code",
   "execution_count": 19,
   "id": "8a36cdf4",
   "metadata": {},
   "outputs": [
    {
     "name": "stdout",
     "output_type": "stream",
     "text": [
      "0.5791225584108269\n",
      "7.217487552951728\n"
     ]
    }
   ],
   "source": [
    "z_long_fortis = calcular_z(df_fortis_1975['Beak length, mm'],df_fortis_2012['blength'])\n",
    "z_prof_fortis = calcular_z(df_fortis_1975['Beak depth, mm'],df_fortis_2012['bdepth'])\n",
    "\n",
    "print(z_long_fortis)\n",
    "print(z_prof_fortis)"
   ]
  },
  {
   "cell_type": "code",
   "execution_count": 33,
   "id": "0945bd10",
   "metadata": {},
   "outputs": [
    {
     "data": {
      "text/plain": [
       "-1.6448536269514729"
      ]
     },
     "execution_count": 33,
     "metadata": {},
     "output_type": "execute_result"
    }
   ],
   "source": [
    "z_critico = stats.norm.ppf(0.05)\n",
    "z_critico"
   ]
  },
  {
   "cell_type": "code",
   "execution_count": null,
   "id": "fd49c52f",
   "metadata": {},
   "outputs": [],
   "source": []
  }
 ],
 "metadata": {
  "kernelspec": {
   "display_name": "Python 3 (ipykernel)",
   "language": "python",
   "name": "python3"
  },
  "language_info": {
   "codemirror_mode": {
    "name": "ipython",
    "version": 3
   },
   "file_extension": ".py",
   "mimetype": "text/x-python",
   "name": "python",
   "nbconvert_exporter": "python",
   "pygments_lexer": "ipython3",
   "version": "3.11.0"
  }
 },
 "nbformat": 4,
 "nbformat_minor": 5
}
